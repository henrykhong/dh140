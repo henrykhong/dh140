{
 "cells": [
  {
   "cell_type": "markdown",
   "metadata": {},
   "source": [
    "Do Americans like how Trump is handling COVID-19?\n",
    "---------------\n",
    "\n",
    "For this data exploration, I will closely look at data from polls, asking Americans asking whether or not they approve of the way Donald Trump is handling the COVID-19 pandemic. Poll takers are segmented by political party and expressed their approval using a letter grade. My goal for this exploration is to (1) understand the structure of the dataset as well as (2) extract meaningul insights from the poll data."
   ]
  },
  {
   "cell_type": "code",
   "execution_count": 1,
   "metadata": {},
   "outputs": [],
   "source": [
    "import pandas as pd\n",
    "\n",
    "approval = pd.read_csv('Data/covid_approval_polls_adjusted.csv')"
   ]
  },
  {
   "cell_type": "markdown",
   "metadata": {},
   "source": [
    "First, I need to import the `panda` dataframe, which will locate and read the csv.file. I then assign the csv reader to a variable, *approval*."
   ]
  },
  {
   "cell_type": "code",
   "execution_count": 2,
   "metadata": {},
   "outputs": [
    {
     "data": {
      "text/plain": [
       "(2110, 19)"
      ]
     },
     "execution_count": 2,
     "metadata": {},
     "output_type": "execute_result"
    }
   ],
   "source": [
    "approval.shape"
   ]
  },
  {
   "cell_type": "markdown",
   "metadata": {},
   "source": [
    "I use the `shape` command to see how many rows and columns are present in a file. "
   ]
  },
  {
   "cell_type": "markdown",
   "metadata": {},
   "source": [
    "The output show that the file contains 2110 rows and 19 columns."
   ]
  },
  {
   "cell_type": "code",
   "execution_count": 3,
   "metadata": {},
   "outputs": [
    {
     "name": "stdout",
     "output_type": "stream",
     "text": [
      "<class 'pandas.core.frame.DataFrame'>\n",
      "RangeIndex: 2110 entries, 0 to 2109\n",
      "Data columns (total 19 columns):\n",
      " #   Column               Non-Null Count  Dtype  \n",
      "---  ------               --------------  -----  \n",
      " 0   subject              2110 non-null   object \n",
      " 1   modeldate            2110 non-null   object \n",
      " 2   party                2110 non-null   object \n",
      " 3   startdate            2110 non-null   object \n",
      " 4   enddate              2110 non-null   object \n",
      " 5   pollster             2110 non-null   object \n",
      " 6   grade                1639 non-null   object \n",
      " 7   samplesize           2110 non-null   float64\n",
      " 8   population           2110 non-null   object \n",
      " 9   weight               2110 non-null   float64\n",
      " 10  influence            2110 non-null   float64\n",
      " 11  multiversions        4 non-null      object \n",
      " 12  tracking             242 non-null    object \n",
      " 13  approve              2107 non-null   float64\n",
      " 14  disapprove           2095 non-null   float64\n",
      " 15  approve_adjusted     2107 non-null   float64\n",
      " 16  disapprove_adjusted  2095 non-null   float64\n",
      " 17  timestamp            2110 non-null   object \n",
      " 18  url                  2110 non-null   object \n",
      "dtypes: float64(7), object(12)\n",
      "memory usage: 313.3+ KB\n"
     ]
    }
   ],
   "source": [
    "approval.info()"
   ]
  },
  {
   "cell_type": "markdown",
   "metadata": {},
   "source": [
    "I use the `info.()` command to get better insight of the data set. "
   ]
  },
  {
   "cell_type": "markdown",
   "metadata": {},
   "source": [
    "The output shows me a total of 19 columns, count of non-null values per column, and datatype of the value. Because I'm using panda dataframe, the datatypes are labled differently from python, as evidenced by 'object' instead of 'string' and 'float64' instead of 'float.'"
   ]
  },
  {
   "cell_type": "code",
   "execution_count": 4,
   "metadata": {
    "scrolled": true
   },
   "outputs": [
    {
     "data": {
      "text/html": [
       "<div>\n",
       "<style scoped>\n",
       "    .dataframe tbody tr th:only-of-type {\n",
       "        vertical-align: middle;\n",
       "    }\n",
       "\n",
       "    .dataframe tbody tr th {\n",
       "        vertical-align: top;\n",
       "    }\n",
       "\n",
       "    .dataframe thead th {\n",
       "        text-align: right;\n",
       "    }\n",
       "</style>\n",
       "<table border=\"1\" class=\"dataframe\">\n",
       "  <thead>\n",
       "    <tr style=\"text-align: right;\">\n",
       "      <th></th>\n",
       "      <th>subject</th>\n",
       "      <th>modeldate</th>\n",
       "      <th>party</th>\n",
       "      <th>startdate</th>\n",
       "      <th>enddate</th>\n",
       "      <th>pollster</th>\n",
       "      <th>grade</th>\n",
       "      <th>samplesize</th>\n",
       "      <th>population</th>\n",
       "      <th>weight</th>\n",
       "      <th>influence</th>\n",
       "      <th>multiversions</th>\n",
       "      <th>tracking</th>\n",
       "      <th>approve</th>\n",
       "      <th>disapprove</th>\n",
       "      <th>approve_adjusted</th>\n",
       "      <th>disapprove_adjusted</th>\n",
       "      <th>timestamp</th>\n",
       "      <th>url</th>\n",
       "    </tr>\n",
       "  </thead>\n",
       "  <tbody>\n",
       "    <tr>\n",
       "      <th>0</th>\n",
       "      <td>Trump</td>\n",
       "      <td>1/15/21</td>\n",
       "      <td>D</td>\n",
       "      <td>1/13/21</td>\n",
       "      <td>1/13/21</td>\n",
       "      <td>Data for Progress</td>\n",
       "      <td>B-</td>\n",
       "      <td>448.0</td>\n",
       "      <td>a</td>\n",
       "      <td>0.671966</td>\n",
       "      <td>0.671966</td>\n",
       "      <td>NaN</td>\n",
       "      <td>NaN</td>\n",
       "      <td>12.09</td>\n",
       "      <td>85.82</td>\n",
       "      <td>10.515244</td>\n",
       "      <td>87.727721</td>\n",
       "      <td>1/15/21 9:30</td>\n",
       "      <td>https://docs.google.com/spreadsheets/d/1cIEEkz...</td>\n",
       "    </tr>\n",
       "    <tr>\n",
       "      <th>1</th>\n",
       "      <td>Trump</td>\n",
       "      <td>1/15/21</td>\n",
       "      <td>R</td>\n",
       "      <td>1/13/21</td>\n",
       "      <td>1/13/21</td>\n",
       "      <td>Data for Progress</td>\n",
       "      <td>B-</td>\n",
       "      <td>377.0</td>\n",
       "      <td>a</td>\n",
       "      <td>0.600852</td>\n",
       "      <td>0.600852</td>\n",
       "      <td>NaN</td>\n",
       "      <td>NaN</td>\n",
       "      <td>75.34</td>\n",
       "      <td>21.39</td>\n",
       "      <td>75.684908</td>\n",
       "      <td>20.888396</td>\n",
       "      <td>1/15/21 9:30</td>\n",
       "      <td>https://docs.google.com/spreadsheets/d/1cIEEkz...</td>\n",
       "    </tr>\n",
       "    <tr>\n",
       "      <th>2</th>\n",
       "      <td>Trump</td>\n",
       "      <td>1/15/21</td>\n",
       "      <td>all</td>\n",
       "      <td>1/13/21</td>\n",
       "      <td>1/13/21</td>\n",
       "      <td>Data for Progress</td>\n",
       "      <td>B-</td>\n",
       "      <td>946.0</td>\n",
       "      <td>a</td>\n",
       "      <td>1.028905</td>\n",
       "      <td>1.028905</td>\n",
       "      <td>NaN</td>\n",
       "      <td>NaN</td>\n",
       "      <td>41.29</td>\n",
       "      <td>55.35</td>\n",
       "      <td>40.496691</td>\n",
       "      <td>56.440627</td>\n",
       "      <td>1/15/21 9:30</td>\n",
       "      <td>https://docs.google.com/spreadsheets/d/1cIEEkz...</td>\n",
       "    </tr>\n",
       "    <tr>\n",
       "      <th>3</th>\n",
       "      <td>Trump</td>\n",
       "      <td>1/15/21</td>\n",
       "      <td>D</td>\n",
       "      <td>1/10/21</td>\n",
       "      <td>1/12/21</td>\n",
       "      <td>YouGov</td>\n",
       "      <td>B</td>\n",
       "      <td>561.0</td>\n",
       "      <td>a</td>\n",
       "      <td>0.648201</td>\n",
       "      <td>0.607854</td>\n",
       "      <td>NaN</td>\n",
       "      <td>NaN</td>\n",
       "      <td>9.00</td>\n",
       "      <td>88.00</td>\n",
       "      <td>8.009537</td>\n",
       "      <td>89.920252</td>\n",
       "      <td>1/15/21 9:30</td>\n",
       "      <td>https://docs.cdn.yougov.com/4yijjbkc2z/econTab...</td>\n",
       "    </tr>\n",
       "    <tr>\n",
       "      <th>4</th>\n",
       "      <td>Trump</td>\n",
       "      <td>1/15/21</td>\n",
       "      <td>I</td>\n",
       "      <td>1/10/21</td>\n",
       "      <td>1/12/21</td>\n",
       "      <td>YouGov</td>\n",
       "      <td>B</td>\n",
       "      <td>594.0</td>\n",
       "      <td>a</td>\n",
       "      <td>0.666403</td>\n",
       "      <td>0.666403</td>\n",
       "      <td>NaN</td>\n",
       "      <td>NaN</td>\n",
       "      <td>36.00</td>\n",
       "      <td>51.00</td>\n",
       "      <td>34.509974</td>\n",
       "      <td>56.370969</td>\n",
       "      <td>1/15/21 9:30</td>\n",
       "      <td>https://docs.cdn.yougov.com/4yijjbkc2z/econTab...</td>\n",
       "    </tr>\n",
       "  </tbody>\n",
       "</table>\n",
       "</div>"
      ],
      "text/plain": [
       "  subject modeldate party startdate  enddate           pollster grade  \\\n",
       "0   Trump   1/15/21     D   1/13/21  1/13/21  Data for Progress    B-   \n",
       "1   Trump   1/15/21     R   1/13/21  1/13/21  Data for Progress    B-   \n",
       "2   Trump   1/15/21   all   1/13/21  1/13/21  Data for Progress    B-   \n",
       "3   Trump   1/15/21     D   1/10/21  1/12/21             YouGov     B   \n",
       "4   Trump   1/15/21     I   1/10/21  1/12/21             YouGov     B   \n",
       "\n",
       "   samplesize population    weight  influence multiversions tracking  approve  \\\n",
       "0       448.0          a  0.671966   0.671966           NaN      NaN    12.09   \n",
       "1       377.0          a  0.600852   0.600852           NaN      NaN    75.34   \n",
       "2       946.0          a  1.028905   1.028905           NaN      NaN    41.29   \n",
       "3       561.0          a  0.648201   0.607854           NaN      NaN     9.00   \n",
       "4       594.0          a  0.666403   0.666403           NaN      NaN    36.00   \n",
       "\n",
       "   disapprove  approve_adjusted  disapprove_adjusted     timestamp  \\\n",
       "0       85.82         10.515244            87.727721  1/15/21 9:30   \n",
       "1       21.39         75.684908            20.888396  1/15/21 9:30   \n",
       "2       55.35         40.496691            56.440627  1/15/21 9:30   \n",
       "3       88.00          8.009537            89.920252  1/15/21 9:30   \n",
       "4       51.00         34.509974            56.370969  1/15/21 9:30   \n",
       "\n",
       "                                                 url  \n",
       "0  https://docs.google.com/spreadsheets/d/1cIEEkz...  \n",
       "1  https://docs.google.com/spreadsheets/d/1cIEEkz...  \n",
       "2  https://docs.google.com/spreadsheets/d/1cIEEkz...  \n",
       "3  https://docs.cdn.yougov.com/4yijjbkc2z/econTab...  \n",
       "4  https://docs.cdn.yougov.com/4yijjbkc2z/econTab...  "
      ]
     },
     "execution_count": 4,
     "metadata": {},
     "output_type": "execute_result"
    }
   ],
   "source": [
    "approval.head()"
   ]
  },
  {
   "cell_type": "markdown",
   "metadata": {},
   "source": [
    "I use the `head()` command to see the first 5 rows of the file. "
   ]
  },
  {
   "cell_type": "markdown",
   "metadata": {},
   "source": [
    "I see that the top rows contain the most recent polls, as evidenced by the 'startdate' and 'enddate' columns. According to the first row, the last poll conducted was actually this past week."
   ]
  },
  {
   "cell_type": "code",
   "execution_count": 5,
   "metadata": {},
   "outputs": [
    {
     "data": {
      "text/html": [
       "<div>\n",
       "<style scoped>\n",
       "    .dataframe tbody tr th:only-of-type {\n",
       "        vertical-align: middle;\n",
       "    }\n",
       "\n",
       "    .dataframe tbody tr th {\n",
       "        vertical-align: top;\n",
       "    }\n",
       "\n",
       "    .dataframe thead th {\n",
       "        text-align: right;\n",
       "    }\n",
       "</style>\n",
       "<table border=\"1\" class=\"dataframe\">\n",
       "  <thead>\n",
       "    <tr style=\"text-align: right;\">\n",
       "      <th></th>\n",
       "      <th>subject</th>\n",
       "      <th>modeldate</th>\n",
       "      <th>party</th>\n",
       "      <th>startdate</th>\n",
       "      <th>enddate</th>\n",
       "      <th>pollster</th>\n",
       "      <th>grade</th>\n",
       "      <th>samplesize</th>\n",
       "      <th>population</th>\n",
       "      <th>weight</th>\n",
       "      <th>influence</th>\n",
       "      <th>multiversions</th>\n",
       "      <th>tracking</th>\n",
       "      <th>approve</th>\n",
       "      <th>disapprove</th>\n",
       "      <th>approve_adjusted</th>\n",
       "      <th>disapprove_adjusted</th>\n",
       "      <th>timestamp</th>\n",
       "      <th>url</th>\n",
       "    </tr>\n",
       "  </thead>\n",
       "  <tbody>\n",
       "    <tr>\n",
       "      <th>2105</th>\n",
       "      <td>Trump</td>\n",
       "      <td>1/15/21</td>\n",
       "      <td>all</td>\n",
       "      <td>2/7/20</td>\n",
       "      <td>2/9/20</td>\n",
       "      <td>Morning Consult</td>\n",
       "      <td>B/C</td>\n",
       "      <td>2200.0</td>\n",
       "      <td>a</td>\n",
       "      <td>0.768004</td>\n",
       "      <td>0.0</td>\n",
       "      <td>NaN</td>\n",
       "      <td>NaN</td>\n",
       "      <td>57.0</td>\n",
       "      <td>22.0</td>\n",
       "      <td>57.920834</td>\n",
       "      <td>23.455376</td>\n",
       "      <td>1/15/21 9:30</td>\n",
       "      <td>https://morningconsult.com/wp-content/uploads/...</td>\n",
       "    </tr>\n",
       "    <tr>\n",
       "      <th>2106</th>\n",
       "      <td>Trump</td>\n",
       "      <td>1/15/21</td>\n",
       "      <td>D</td>\n",
       "      <td>2/2/20</td>\n",
       "      <td>2/4/20</td>\n",
       "      <td>YouGov</td>\n",
       "      <td>B</td>\n",
       "      <td>523.0</td>\n",
       "      <td>a</td>\n",
       "      <td>0.542239</td>\n",
       "      <td>0.0</td>\n",
       "      <td>NaN</td>\n",
       "      <td>NaN</td>\n",
       "      <td>21.0</td>\n",
       "      <td>51.0</td>\n",
       "      <td>20.009537</td>\n",
       "      <td>52.920252</td>\n",
       "      <td>1/15/21 9:30</td>\n",
       "      <td>https://d25d2506sfb94s.cloudfront.net/cumulus_...</td>\n",
       "    </tr>\n",
       "    <tr>\n",
       "      <th>2107</th>\n",
       "      <td>Trump</td>\n",
       "      <td>1/15/21</td>\n",
       "      <td>I</td>\n",
       "      <td>2/2/20</td>\n",
       "      <td>2/4/20</td>\n",
       "      <td>YouGov</td>\n",
       "      <td>B</td>\n",
       "      <td>599.0</td>\n",
       "      <td>a</td>\n",
       "      <td>0.576709</td>\n",
       "      <td>0.0</td>\n",
       "      <td>NaN</td>\n",
       "      <td>NaN</td>\n",
       "      <td>39.0</td>\n",
       "      <td>25.0</td>\n",
       "      <td>37.509974</td>\n",
       "      <td>30.370969</td>\n",
       "      <td>1/15/21 9:30</td>\n",
       "      <td>https://d25d2506sfb94s.cloudfront.net/cumulus_...</td>\n",
       "    </tr>\n",
       "    <tr>\n",
       "      <th>2108</th>\n",
       "      <td>Trump</td>\n",
       "      <td>1/15/21</td>\n",
       "      <td>R</td>\n",
       "      <td>2/2/20</td>\n",
       "      <td>2/4/20</td>\n",
       "      <td>YouGov</td>\n",
       "      <td>B</td>\n",
       "      <td>376.0</td>\n",
       "      <td>a</td>\n",
       "      <td>0.459291</td>\n",
       "      <td>0.0</td>\n",
       "      <td>NaN</td>\n",
       "      <td>NaN</td>\n",
       "      <td>75.0</td>\n",
       "      <td>6.0</td>\n",
       "      <td>74.245536</td>\n",
       "      <td>7.311889</td>\n",
       "      <td>1/15/21 9:30</td>\n",
       "      <td>https://d25d2506sfb94s.cloudfront.net/cumulus_...</td>\n",
       "    </tr>\n",
       "    <tr>\n",
       "      <th>2109</th>\n",
       "      <td>Trump</td>\n",
       "      <td>1/15/21</td>\n",
       "      <td>all</td>\n",
       "      <td>2/2/20</td>\n",
       "      <td>2/4/20</td>\n",
       "      <td>YouGov</td>\n",
       "      <td>B</td>\n",
       "      <td>1500.0</td>\n",
       "      <td>a</td>\n",
       "      <td>0.785532</td>\n",
       "      <td>0.0</td>\n",
       "      <td>NaN</td>\n",
       "      <td>NaN</td>\n",
       "      <td>42.0</td>\n",
       "      <td>29.0</td>\n",
       "      <td>42.000328</td>\n",
       "      <td>31.243714</td>\n",
       "      <td>1/15/21 9:30</td>\n",
       "      <td>https://d25d2506sfb94s.cloudfront.net/cumulus_...</td>\n",
       "    </tr>\n",
       "  </tbody>\n",
       "</table>\n",
       "</div>"
      ],
      "text/plain": [
       "     subject modeldate party startdate enddate         pollster grade  \\\n",
       "2105   Trump   1/15/21   all    2/7/20  2/9/20  Morning Consult   B/C   \n",
       "2106   Trump   1/15/21     D    2/2/20  2/4/20           YouGov     B   \n",
       "2107   Trump   1/15/21     I    2/2/20  2/4/20           YouGov     B   \n",
       "2108   Trump   1/15/21     R    2/2/20  2/4/20           YouGov     B   \n",
       "2109   Trump   1/15/21   all    2/2/20  2/4/20           YouGov     B   \n",
       "\n",
       "      samplesize population    weight  influence multiversions tracking  \\\n",
       "2105      2200.0          a  0.768004        0.0           NaN      NaN   \n",
       "2106       523.0          a  0.542239        0.0           NaN      NaN   \n",
       "2107       599.0          a  0.576709        0.0           NaN      NaN   \n",
       "2108       376.0          a  0.459291        0.0           NaN      NaN   \n",
       "2109      1500.0          a  0.785532        0.0           NaN      NaN   \n",
       "\n",
       "      approve  disapprove  approve_adjusted  disapprove_adjusted  \\\n",
       "2105     57.0        22.0         57.920834            23.455376   \n",
       "2106     21.0        51.0         20.009537            52.920252   \n",
       "2107     39.0        25.0         37.509974            30.370969   \n",
       "2108     75.0         6.0         74.245536             7.311889   \n",
       "2109     42.0        29.0         42.000328            31.243714   \n",
       "\n",
       "         timestamp                                                url  \n",
       "2105  1/15/21 9:30  https://morningconsult.com/wp-content/uploads/...  \n",
       "2106  1/15/21 9:30  https://d25d2506sfb94s.cloudfront.net/cumulus_...  \n",
       "2107  1/15/21 9:30  https://d25d2506sfb94s.cloudfront.net/cumulus_...  \n",
       "2108  1/15/21 9:30  https://d25d2506sfb94s.cloudfront.net/cumulus_...  \n",
       "2109  1/15/21 9:30  https://d25d2506sfb94s.cloudfront.net/cumulus_...  "
      ]
     },
     "execution_count": 5,
     "metadata": {},
     "output_type": "execute_result"
    }
   ],
   "source": [
    "approval.tail()"
   ]
  },
  {
   "cell_type": "markdown",
   "metadata": {},
   "source": [
    "I use the `tail()` command to see last 5 rows of the file."
   ]
  },
  {
   "cell_type": "markdown",
   "metadata": {},
   "source": [
    "According to the last row, the first poll conducted back in February 2020."
   ]
  },
  {
   "cell_type": "code",
   "execution_count": 6,
   "metadata": {},
   "outputs": [
    {
     "data": {
      "text/plain": [
       "0        B-\n",
       "1        B-\n",
       "2        B-\n",
       "3         B\n",
       "4         B\n",
       "       ... \n",
       "2105    B/C\n",
       "2106      B\n",
       "2107      B\n",
       "2108      B\n",
       "2109      B\n",
       "Name: grade, Length: 2110, dtype: object"
      ]
     },
     "execution_count": 6,
     "metadata": {},
     "output_type": "execute_result"
    }
   ],
   "source": [
    "approval['grade']"
   ]
  },
  {
   "cell_type": "markdown",
   "metadata": {},
   "source": [
    "By combining the data name *approval* and column header 'grade,' I get a cursory glance of the values in the column. This command also gives a profile breakdown of the column at the bottom. "
   ]
  },
  {
   "cell_type": "markdown",
   "metadata": {},
   "source": [
    "The output shows me that there are 2110 rows in the 'grade' column, and data types are `objects` (`strings`)."
   ]
  },
  {
   "cell_type": "code",
   "execution_count": 7,
   "metadata": {},
   "outputs": [
    {
     "data": {
      "text/plain": [
       "B      500\n",
       "B/C    445\n",
       "B-     197\n",
       "D-     112\n",
       "C      109\n",
       "A+      93\n",
       "A-      51\n",
       "B+      36\n",
       "C-      28\n",
       "A       24\n",
       "A/B     23\n",
       "C/D     16\n",
       "C+       5\n",
       "Name: grade, dtype: int64"
      ]
     },
     "execution_count": 7,
     "metadata": {},
     "output_type": "execute_result"
    }
   ],
   "source": [
    "approval['grade'].value_counts()"
   ]
  },
  {
   "cell_type": "markdown",
   "metadata": {},
   "source": [
    "`value_counts()` gives me the individual counts for each value in a chosen column. "
   ]
  },
  {
   "cell_type": "markdown",
   "metadata": {},
   "source": [
    "The output after applying the command to the 'grade' column shows that a majority of people rate Trump's handling of COVID-19 a B or B/C grade, while few people are giving him an A and C grade."
   ]
  },
  {
   "cell_type": "code",
   "execution_count": 8,
   "metadata": {},
   "outputs": [
    {
     "data": {
      "text/plain": [
       "B      500\n",
       "B/C    445\n",
       "B-     197\n",
       "D-     112\n",
       "C      109\n",
       "A+      93\n",
       "A-      51\n",
       "B+      36\n",
       "C-      28\n",
       "A       24\n",
       "A/B     23\n",
       "C/D     16\n",
       "C+       5\n",
       "Name: grade, dtype: int64"
      ]
     },
     "execution_count": 8,
     "metadata": {},
     "output_type": "execute_result"
    }
   ],
   "source": [
    "grade_count = approval['grade'].value_counts()\n",
    "grade_count"
   ]
  },
  {
   "cell_type": "markdown",
   "metadata": {},
   "source": [
    "I assign the previous `value_counts()` command to a variable, *grade_count*. "
   ]
  },
  {
   "cell_type": "markdown",
   "metadata": {},
   "source": [
    "Now, whenver I return the variable, I get the same output."
   ]
  },
  {
   "cell_type": "code",
   "execution_count": 9,
   "metadata": {},
   "outputs": [
    {
     "data": {
      "text/html": [
       "<div>\n",
       "<style scoped>\n",
       "    .dataframe tbody tr th:only-of-type {\n",
       "        vertical-align: middle;\n",
       "    }\n",
       "\n",
       "    .dataframe tbody tr th {\n",
       "        vertical-align: top;\n",
       "    }\n",
       "\n",
       "    .dataframe thead th {\n",
       "        text-align: right;\n",
       "    }\n",
       "</style>\n",
       "<table border=\"1\" class=\"dataframe\">\n",
       "  <thead>\n",
       "    <tr style=\"text-align: right;\">\n",
       "      <th></th>\n",
       "      <th>index</th>\n",
       "      <th>grade</th>\n",
       "    </tr>\n",
       "  </thead>\n",
       "  <tbody>\n",
       "    <tr>\n",
       "      <th>0</th>\n",
       "      <td>B</td>\n",
       "      <td>500</td>\n",
       "    </tr>\n",
       "    <tr>\n",
       "      <th>1</th>\n",
       "      <td>B/C</td>\n",
       "      <td>445</td>\n",
       "    </tr>\n",
       "    <tr>\n",
       "      <th>2</th>\n",
       "      <td>B-</td>\n",
       "      <td>197</td>\n",
       "    </tr>\n",
       "    <tr>\n",
       "      <th>3</th>\n",
       "      <td>D-</td>\n",
       "      <td>112</td>\n",
       "    </tr>\n",
       "    <tr>\n",
       "      <th>4</th>\n",
       "      <td>C</td>\n",
       "      <td>109</td>\n",
       "    </tr>\n",
       "    <tr>\n",
       "      <th>5</th>\n",
       "      <td>A+</td>\n",
       "      <td>93</td>\n",
       "    </tr>\n",
       "    <tr>\n",
       "      <th>6</th>\n",
       "      <td>A-</td>\n",
       "      <td>51</td>\n",
       "    </tr>\n",
       "    <tr>\n",
       "      <th>7</th>\n",
       "      <td>B+</td>\n",
       "      <td>36</td>\n",
       "    </tr>\n",
       "    <tr>\n",
       "      <th>8</th>\n",
       "      <td>C-</td>\n",
       "      <td>28</td>\n",
       "    </tr>\n",
       "    <tr>\n",
       "      <th>9</th>\n",
       "      <td>A</td>\n",
       "      <td>24</td>\n",
       "    </tr>\n",
       "    <tr>\n",
       "      <th>10</th>\n",
       "      <td>A/B</td>\n",
       "      <td>23</td>\n",
       "    </tr>\n",
       "    <tr>\n",
       "      <th>11</th>\n",
       "      <td>C/D</td>\n",
       "      <td>16</td>\n",
       "    </tr>\n",
       "    <tr>\n",
       "      <th>12</th>\n",
       "      <td>C+</td>\n",
       "      <td>5</td>\n",
       "    </tr>\n",
       "  </tbody>\n",
       "</table>\n",
       "</div>"
      ],
      "text/plain": [
       "   index  grade\n",
       "0      B    500\n",
       "1    B/C    445\n",
       "2     B-    197\n",
       "3     D-    112\n",
       "4      C    109\n",
       "5     A+     93\n",
       "6     A-     51\n",
       "7     B+     36\n",
       "8     C-     28\n",
       "9      A     24\n",
       "10   A/B     23\n",
       "11   C/D     16\n",
       "12    C+      5"
      ]
     },
     "execution_count": 9,
     "metadata": {},
     "output_type": "execute_result"
    }
   ],
   "source": [
    "grade_count = grade_count.reset_index()\n",
    "grade_count"
   ]
  },
  {
   "cell_type": "markdown",
   "metadata": {},
   "source": [
    "The `reset_index()` command converts this array into a data frame that we can later manipulate into a plot. "
   ]
  },
  {
   "cell_type": "markdown",
   "metadata": {},
   "source": [
    "The output shows an index for every row of grades and the count to the right. "
   ]
  },
  {
   "cell_type": "code",
   "execution_count": 10,
   "metadata": {},
   "outputs": [
    {
     "data": {
      "text/html": [
       "<div>\n",
       "<style scoped>\n",
       "    .dataframe tbody tr th:only-of-type {\n",
       "        vertical-align: middle;\n",
       "    }\n",
       "\n",
       "    .dataframe tbody tr th {\n",
       "        vertical-align: top;\n",
       "    }\n",
       "\n",
       "    .dataframe thead th {\n",
       "        text-align: right;\n",
       "    }\n",
       "</style>\n",
       "<table border=\"1\" class=\"dataframe\">\n",
       "  <thead>\n",
       "    <tr style=\"text-align: right;\">\n",
       "      <th></th>\n",
       "      <th>grade</th>\n",
       "      <th>count</th>\n",
       "    </tr>\n",
       "  </thead>\n",
       "  <tbody>\n",
       "    <tr>\n",
       "      <th>0</th>\n",
       "      <td>B</td>\n",
       "      <td>500</td>\n",
       "    </tr>\n",
       "    <tr>\n",
       "      <th>1</th>\n",
       "      <td>B/C</td>\n",
       "      <td>445</td>\n",
       "    </tr>\n",
       "    <tr>\n",
       "      <th>2</th>\n",
       "      <td>B-</td>\n",
       "      <td>197</td>\n",
       "    </tr>\n",
       "    <tr>\n",
       "      <th>3</th>\n",
       "      <td>D-</td>\n",
       "      <td>112</td>\n",
       "    </tr>\n",
       "    <tr>\n",
       "      <th>4</th>\n",
       "      <td>C</td>\n",
       "      <td>109</td>\n",
       "    </tr>\n",
       "    <tr>\n",
       "      <th>5</th>\n",
       "      <td>A+</td>\n",
       "      <td>93</td>\n",
       "    </tr>\n",
       "    <tr>\n",
       "      <th>6</th>\n",
       "      <td>A-</td>\n",
       "      <td>51</td>\n",
       "    </tr>\n",
       "    <tr>\n",
       "      <th>7</th>\n",
       "      <td>B+</td>\n",
       "      <td>36</td>\n",
       "    </tr>\n",
       "    <tr>\n",
       "      <th>8</th>\n",
       "      <td>C-</td>\n",
       "      <td>28</td>\n",
       "    </tr>\n",
       "    <tr>\n",
       "      <th>9</th>\n",
       "      <td>A</td>\n",
       "      <td>24</td>\n",
       "    </tr>\n",
       "    <tr>\n",
       "      <th>10</th>\n",
       "      <td>A/B</td>\n",
       "      <td>23</td>\n",
       "    </tr>\n",
       "    <tr>\n",
       "      <th>11</th>\n",
       "      <td>C/D</td>\n",
       "      <td>16</td>\n",
       "    </tr>\n",
       "    <tr>\n",
       "      <th>12</th>\n",
       "      <td>C+</td>\n",
       "      <td>5</td>\n",
       "    </tr>\n",
       "  </tbody>\n",
       "</table>\n",
       "</div>"
      ],
      "text/plain": [
       "   grade  count\n",
       "0      B    500\n",
       "1    B/C    445\n",
       "2     B-    197\n",
       "3     D-    112\n",
       "4      C    109\n",
       "5     A+     93\n",
       "6     A-     51\n",
       "7     B+     36\n",
       "8     C-     28\n",
       "9      A     24\n",
       "10   A/B     23\n",
       "11   C/D     16\n",
       "12    C+      5"
      ]
     },
     "execution_count": 10,
     "metadata": {},
     "output_type": "execute_result"
    }
   ],
   "source": [
    "grade_count.columns = ['grade','count']\n",
    "grade_count"
   ]
  },
  {
   "cell_type": "markdown",
   "metadata": {},
   "source": [
    "I'm using `columns` to rename the column headers from 'index' and 'grade' to 'grade' and 'count,' respectively."
   ]
  },
  {
   "cell_type": "markdown",
   "metadata": {},
   "source": [
    "The output shows the columns header have been changed appropriately to 'grade' and 'count.'"
   ]
  },
  {
   "cell_type": "code",
   "execution_count": 11,
   "metadata": {},
   "outputs": [
    {
     "data": {
      "text/plain": [
       "<matplotlib.axes._subplots.AxesSubplot at 0x7fbb8ed14c40>"
      ]
     },
     "execution_count": 11,
     "metadata": {},
     "output_type": "execute_result"
    },
    {
     "data": {
      "image/png": "[encoded data removed]",
      "text/plain": [
       "<Figure size 432x288 with 1 Axes>"
      ]
     },
     "metadata": {
      "needs_background": "light"
     },
     "output_type": "display_data"
    }
   ],
   "source": [
    "grade_count.plot.bar(x = 'grade', y = 'count' , title = 'Approval Scale', color = 'purple')"
   ]
  },
  {
   "cell_type": "markdown",
   "metadata": {},
   "source": [
    "I use `plot.bar()` to create a bar graph using the columns from the *grade_count* data frame. I set the 'grade' column as the x-axis and 'count' as the y-axis."
   ]
  },
  {
   "cell_type": "markdown",
   "metadata": {},
   "source": [
    "The output is a bar graph displaying the different approval grades that represent Americans' thoughts on Trump's handling of the pandemic. The bar graph is organized from greatest to least, from left to right. "
   ]
  },
  {
   "cell_type": "code",
   "execution_count": 12,
   "metadata": {},
   "outputs": [
    {
     "data": {
      "text/html": [
       "<div>\n",
       "<style scoped>\n",
       "    .dataframe tbody tr th:only-of-type {\n",
       "        vertical-align: middle;\n",
       "    }\n",
       "\n",
       "    .dataframe tbody tr th {\n",
       "        vertical-align: top;\n",
       "    }\n",
       "\n",
       "    .dataframe thead th {\n",
       "        text-align: right;\n",
       "    }\n",
       "</style>\n",
       "<table border=\"1\" class=\"dataframe\">\n",
       "  <thead>\n",
       "    <tr style=\"text-align: right;\">\n",
       "      <th></th>\n",
       "      <th>party</th>\n",
       "      <th>grade</th>\n",
       "    </tr>\n",
       "  </thead>\n",
       "  <tbody>\n",
       "    <tr>\n",
       "      <th>0</th>\n",
       "      <td>D</td>\n",
       "      <td>B-</td>\n",
       "    </tr>\n",
       "    <tr>\n",
       "      <th>1</th>\n",
       "      <td>R</td>\n",
       "      <td>B-</td>\n",
       "    </tr>\n",
       "    <tr>\n",
       "      <th>2</th>\n",
       "      <td>all</td>\n",
       "      <td>B-</td>\n",
       "    </tr>\n",
       "    <tr>\n",
       "      <th>3</th>\n",
       "      <td>D</td>\n",
       "      <td>B</td>\n",
       "    </tr>\n",
       "    <tr>\n",
       "      <th>4</th>\n",
       "      <td>I</td>\n",
       "      <td>B</td>\n",
       "    </tr>\n",
       "    <tr>\n",
       "      <th>...</th>\n",
       "      <td>...</td>\n",
       "      <td>...</td>\n",
       "    </tr>\n",
       "    <tr>\n",
       "      <th>2105</th>\n",
       "      <td>all</td>\n",
       "      <td>B/C</td>\n",
       "    </tr>\n",
       "    <tr>\n",
       "      <th>2106</th>\n",
       "      <td>D</td>\n",
       "      <td>B</td>\n",
       "    </tr>\n",
       "    <tr>\n",
       "      <th>2107</th>\n",
       "      <td>I</td>\n",
       "      <td>B</td>\n",
       "    </tr>\n",
       "    <tr>\n",
       "      <th>2108</th>\n",
       "      <td>R</td>\n",
       "      <td>B</td>\n",
       "    </tr>\n",
       "    <tr>\n",
       "      <th>2109</th>\n",
       "      <td>all</td>\n",
       "      <td>B</td>\n",
       "    </tr>\n",
       "  </tbody>\n",
       "</table>\n",
       "<p>2110 rows × 2 columns</p>\n",
       "</div>"
      ],
      "text/plain": [
       "     party grade\n",
       "0        D    B-\n",
       "1        R    B-\n",
       "2      all    B-\n",
       "3        D     B\n",
       "4        I     B\n",
       "...    ...   ...\n",
       "2105   all   B/C\n",
       "2106     D     B\n",
       "2107     I     B\n",
       "2108     R     B\n",
       "2109   all     B\n",
       "\n",
       "[2110 rows x 2 columns]"
      ]
     },
     "execution_count": 12,
     "metadata": {},
     "output_type": "execute_result"
    }
   ],
   "source": [
    "desired_columns = ['party','grade'] # list of desired column names\n",
    "approval[desired_columns] # subset based on desired columns\n",
    "approval_trimmed = approval[desired_columns].copy() #assign subset to a variable\n",
    "approval_trimmed"
   ]
  },
  {
   "cell_type": "markdown",
   "metadata": {},
   "source": [
    "I create a list of desired column names from the original data frame, *approval*, and create a subset based on my desired columns, 'party' and 'grade.' I attach a `copy()` to the subset and assign the subset to a variable, *approval_trimmed*."
   ]
  },
  {
   "cell_type": "markdown",
   "metadata": {},
   "source": [
    "The output is a trimmed version of the csv.file and only shows the 'party' and 'grade' columns. "
   ]
  },
  {
   "cell_type": "code",
   "execution_count": 13,
   "metadata": {},
   "outputs": [
    {
     "data": {
      "text/html": [
       "<div>\n",
       "<style scoped>\n",
       "    .dataframe tbody tr th:only-of-type {\n",
       "        vertical-align: middle;\n",
       "    }\n",
       "\n",
       "    .dataframe tbody tr th {\n",
       "        vertical-align: top;\n",
       "    }\n",
       "\n",
       "    .dataframe thead th {\n",
       "        text-align: right;\n",
       "    }\n",
       "</style>\n",
       "<table border=\"1\" class=\"dataframe\">\n",
       "  <thead>\n",
       "    <tr style=\"text-align: right;\">\n",
       "      <th></th>\n",
       "      <th>party</th>\n",
       "      <th>grade</th>\n",
       "    </tr>\n",
       "  </thead>\n",
       "  <tbody>\n",
       "    <tr>\n",
       "      <th>0</th>\n",
       "      <td>D</td>\n",
       "      <td>B-</td>\n",
       "    </tr>\n",
       "    <tr>\n",
       "      <th>3</th>\n",
       "      <td>D</td>\n",
       "      <td>B</td>\n",
       "    </tr>\n",
       "    <tr>\n",
       "      <th>7</th>\n",
       "      <td>D</td>\n",
       "      <td>B/C</td>\n",
       "    </tr>\n",
       "    <tr>\n",
       "      <th>12</th>\n",
       "      <td>D</td>\n",
       "      <td>B</td>\n",
       "    </tr>\n",
       "    <tr>\n",
       "      <th>16</th>\n",
       "      <td>D</td>\n",
       "      <td>B/C</td>\n",
       "    </tr>\n",
       "    <tr>\n",
       "      <th>...</th>\n",
       "      <td>...</td>\n",
       "      <td>...</td>\n",
       "    </tr>\n",
       "    <tr>\n",
       "      <th>2090</th>\n",
       "      <td>D</td>\n",
       "      <td>B</td>\n",
       "    </tr>\n",
       "    <tr>\n",
       "      <th>2094</th>\n",
       "      <td>D</td>\n",
       "      <td>B</td>\n",
       "    </tr>\n",
       "    <tr>\n",
       "      <th>2098</th>\n",
       "      <td>D</td>\n",
       "      <td>B</td>\n",
       "    </tr>\n",
       "    <tr>\n",
       "      <th>2102</th>\n",
       "      <td>D</td>\n",
       "      <td>B/C</td>\n",
       "    </tr>\n",
       "    <tr>\n",
       "      <th>2106</th>\n",
       "      <td>D</td>\n",
       "      <td>B</td>\n",
       "    </tr>\n",
       "  </tbody>\n",
       "</table>\n",
       "<p>503 rows × 2 columns</p>\n",
       "</div>"
      ],
      "text/plain": [
       "     party grade\n",
       "0        D    B-\n",
       "3        D     B\n",
       "7        D   B/C\n",
       "12       D     B\n",
       "16       D   B/C\n",
       "...    ...   ...\n",
       "2090     D     B\n",
       "2094     D     B\n",
       "2098     D     B\n",
       "2102     D   B/C\n",
       "2106     D     B\n",
       "\n",
       "[503 rows x 2 columns]"
      ]
     },
     "execution_count": 13,
     "metadata": {},
     "output_type": "execute_result"
    }
   ],
   "source": [
    "approval_trimmed.query(\"party == 'D'\")\n",
    "dem_approval= approval_trimmed.query(\"party == 'D'\")\n",
    "dem_approval"
   ]
  },
  {
   "cell_type": "markdown",
   "metadata": {},
   "source": [
    "I use the `query` command to only select 'D' values (Democrats) in the 'party' column. I then assign the query to a variable, *dem_approval*."
   ]
  },
  {
   "cell_type": "markdown",
   "metadata": {},
   "source": [
    "The output only displays rows for Democrats and their respective grade."
   ]
  },
  {
   "cell_type": "code",
   "execution_count": 14,
   "metadata": {},
   "outputs": [
    {
     "data": {
      "text/plain": [
       "<matplotlib.axes._subplots.AxesSubplot at 0x7fbb8c8b8b20>"
      ]
     },
     "execution_count": 14,
     "metadata": {},
     "output_type": "execute_result"
    },
    {
     "data": {
      "image/png": "[encoded data removed]",
      "text/plain": [
       "<Figure size 432x288 with 1 Axes>"
      ]
     },
     "metadata": {
      "needs_background": "light"
     },
     "output_type": "display_data"
    }
   ],
   "source": [
    "dem_count = dem_approval['grade'].value_counts()\n",
    "dem_count.plot.bar(x = 'grade', y = 'count' , title = 'Democratic Approval Scale', color = 'blue')"
   ]
  },
  {
   "cell_type": "markdown",
   "metadata": {},
   "source": [
    "I use the `value_counts()` command on the 'grade' column of the *dem_approval* subset and assign it to a new variable, *dem_count*. From there, I use the `plot.bar()` command to generate a bar graph. I set the 'grade' column as the x-axis and 'count' as the y-axis."
   ]
  },
  {
   "cell_type": "markdown",
   "metadata": {},
   "source": [
    "The output is a bar graph that only displays Democrats' approval grades. Most Democrats seem to give Trump an approval grade of B, while few rate him A's and C's"
   ]
  },
  {
   "cell_type": "code",
   "execution_count": 16,
   "metadata": {},
   "outputs": [
    {
     "data": {
      "text/plain": [
       "<matplotlib.axes._subplots.AxesSubplot at 0x7fbb8a7bedf0>"
      ]
     },
     "execution_count": 16,
     "metadata": {},
     "output_type": "execute_result"
    },
    {
     "data": {
      "image/png": "[encoded data removed]",
      "text/plain": [
       "<Figure size 432x288 with 1 Axes>"
      ]
     },
     "metadata": {
      "needs_background": "light"
     },
     "output_type": "display_data"
    }
   ],
   "source": [
    "approval_trimmed.query(\"party == 'R'\")\n",
    "rep_approval= approval_trimmed.query(\"party == 'R'\")\n",
    "rep_count = rep_approval['grade'].value_counts()\n",
    "rep_count.plot.bar(x = 'grade', y = 'count' , title = 'Republican Approval Scale', color = 'red')"
   ]
  },
  {
   "cell_type": "markdown",
   "metadata": {},
   "source": [
    "I followed the same steps with segmenting the Democratic party but this time applied the operations with the Republican party."
   ]
  },
  {
   "cell_type": "markdown",
   "metadata": {},
   "source": [
    "The output is a bar graph that only displays Democrats' approval grades; it appears that the distribution of scores are consistent with that of the Democratic party."
   ]
  }
 ],
 "metadata": {
  "kernelspec": {
   "display_name": "Python 3",
   "language": "python",
   "name": "python3"
  },
  "language_info": {
   "codemirror_mode": {
    "name": "ipython",
    "version": 3
   },
   "file_extension": ".py",
   "mimetype": "text/x-python",
   "name": "python",
   "nbconvert_exporter": "python",
   "pygments_lexer": "ipython3",
   "version": "3.8.5"
  },
  "toc": {
   "base_numbering": 1,
   "nav_menu": {},
   "number_sections": true,
   "sideBar": true,
   "skip_h1_title": false,
   "title_cell": "Table of Contents",
   "title_sidebar": "Contents",
   "toc_cell": false,
   "toc_position": {},
   "toc_section_display": true,
   "toc_window_display": false
  }
 },
 "nbformat": 4,
 "nbformat_minor": 4
}

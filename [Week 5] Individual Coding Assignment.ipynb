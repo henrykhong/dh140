{
 "cells": [
  {
   "cell_type": "markdown",
   "metadata": {},
   "source": [
    "# Active LA Business Dataset Exploration\n",
    "\n",
    "Purpose: I will be conducting data exploration on the [Listing of Active LA Businesses](https://data.lacity.org/Administration-Finance/Listing-of-Active-Businesses/6rrh-rzua/data). Because I haven't figured out how to download the dataset as a shape or geojson file, I will be focusing on non-spatial components of the data. My goal for this data exploration is to contextualize the data into different graphs."
   ]
  },
  {
   "cell_type": "markdown",
   "metadata": {},
   "source": [
    "## Importing Data Libraries and Dataset"
   ]
  },
  {
   "cell_type": "markdown",
   "metadata": {},
   "source": [
    "Purpose: I import these data libraries so I can create my plots later on. For this assignment, I really only need `matplotlib.pyplot`, but I also include the other data libraries as good practice."
   ]
  },
  {
   "cell_type": "code",
   "execution_count": 1,
   "metadata": {},
   "outputs": [],
   "source": [
    "# to download osm data\n",
    "import osmnx as ox\n",
    "\n",
    "# to manipulate data\n",
    "import pandas as pd\n",
    "\n",
    "# to manipulate and visualize spatial data\n",
    "import geopandas as gpd\n",
    "\n",
    "# to provide basemaps \n",
    "import contextily as ctx\n",
    "\n",
    "# for plotting\n",
    "import matplotlib.pyplot as plt"
   ]
  },
  {
   "cell_type": "markdown",
   "metadata": {},
   "source": [
    "Purpose: I use `pandas` to access and read the downloaded csv file. I then assign the reader to a handler."
   ]
  },
  {
   "cell_type": "code",
   "execution_count": 2,
   "metadata": {},
   "outputs": [],
   "source": [
    "la_biz=pd.read_csv('Data/Listing_of_Active_Businesses.csv')"
   ]
  },
  {
   "cell_type": "markdown",
   "metadata": {},
   "source": [
    "## Preliminary Inspection"
   ]
  },
  {
   "cell_type": "markdown",
   "metadata": {},
   "source": [
    "Purpose: I use `shape` to see how many rows and columns are in the dataset."
   ]
  },
  {
   "cell_type": "code",
   "execution_count": 3,
   "metadata": {},
   "outputs": [
    {
     "data": {
      "text/plain": [
       "(542286, 17)"
      ]
     },
     "execution_count": 3,
     "metadata": {},
     "output_type": "execute_result"
    }
   ],
   "source": [
    "la_biz.shape"
   ]
  },
  {
   "cell_type": "markdown",
   "metadata": {},
   "source": [
    "Output: There are 542286 rows and 17 columns in this dataset. I know I'm working with something huge!"
   ]
  },
  {
   "cell_type": "markdown",
   "metadata": {},
   "source": [
    "Purpose: I always use `info` to get a cursory glance of the contents inside each column."
   ]
  },
  {
   "cell_type": "code",
   "execution_count": 4,
   "metadata": {},
   "outputs": [
    {
     "name": "stdout",
     "output_type": "stream",
     "text": [
      "<class 'pandas.core.frame.DataFrame'>\n",
      "RangeIndex: 542286 entries, 0 to 542285\n",
      "Data columns (total 17 columns):\n",
      " #   Column                     Non-Null Count   Dtype  \n",
      "---  ------                     --------------   -----  \n",
      " 0   LOCATION ACCOUNT #         542286 non-null  object \n",
      " 1   BUSINESS NAME              542286 non-null  object \n",
      " 2   DBA NAME                   187463 non-null  object \n",
      " 3   STREET ADDRESS             542283 non-null  object \n",
      " 4   CITY                       542243 non-null  object \n",
      " 5   ZIP CODE                   542286 non-null  object \n",
      " 6   LOCATION DESCRIPTION       542253 non-null  object \n",
      " 7   MAILING ADDRESS            260496 non-null  object \n",
      " 8   MAILING CITY               260502 non-null  object \n",
      " 9   MAILING ZIP CODE           260415 non-null  object \n",
      " 10  NAICS                      486309 non-null  float64\n",
      " 11  PRIMARY NAICS DESCRIPTION  486309 non-null  object \n",
      " 12  COUNCIL DISTRICT           542286 non-null  int64  \n",
      " 13  LOCATION START DATE        538695 non-null  object \n",
      " 14  YEARS ONLY                 538695 non-null  float64\n",
      " 15  LOCATION END DATE          0 non-null       float64\n",
      " 16  LOCATION                   533017 non-null  object \n",
      "dtypes: float64(3), int64(1), object(13)\n",
      "memory usage: 70.3+ MB\n"
     ]
    }
   ],
   "source": [
    "la_biz.info()"
   ]
  },
  {
   "cell_type": "markdown",
   "metadata": {},
   "source": [
    "Output: Each column doesn't have the same non-null count, which indicates that they are empty/null fields in the dataset. Most of the datatype appear to be objects (strings), which I will use later to generate my plots."
   ]
  },
  {
   "cell_type": "markdown",
   "metadata": {},
   "source": [
    "Purpose: I use `head()` to see the top of the dataset. It's always nice to see what you're working with."
   ]
  },
  {
   "cell_type": "code",
   "execution_count": 5,
   "metadata": {},
   "outputs": [
    {
     "data": {
      "text/html": [
       "<div>\n",
       "<style scoped>\n",
       "    .dataframe tbody tr th:only-of-type {\n",
       "        vertical-align: middle;\n",
       "    }\n",
       "\n",
       "    .dataframe tbody tr th {\n",
       "        vertical-align: top;\n",
       "    }\n",
       "\n",
       "    .dataframe thead th {\n",
       "        text-align: right;\n",
       "    }\n",
       "</style>\n",
       "<table border=\"1\" class=\"dataframe\">\n",
       "  <thead>\n",
       "    <tr style=\"text-align: right;\">\n",
       "      <th></th>\n",
       "      <th>LOCATION ACCOUNT #</th>\n",
       "      <th>BUSINESS NAME</th>\n",
       "      <th>DBA NAME</th>\n",
       "      <th>STREET ADDRESS</th>\n",
       "      <th>CITY</th>\n",
       "      <th>ZIP CODE</th>\n",
       "      <th>LOCATION DESCRIPTION</th>\n",
       "      <th>MAILING ADDRESS</th>\n",
       "      <th>MAILING CITY</th>\n",
       "      <th>MAILING ZIP CODE</th>\n",
       "      <th>NAICS</th>\n",
       "      <th>PRIMARY NAICS DESCRIPTION</th>\n",
       "      <th>COUNCIL DISTRICT</th>\n",
       "      <th>LOCATION START DATE</th>\n",
       "      <th>YEARS ONLY</th>\n",
       "      <th>LOCATION END DATE</th>\n",
       "      <th>LOCATION</th>\n",
       "    </tr>\n",
       "  </thead>\n",
       "  <tbody>\n",
       "    <tr>\n",
       "      <th>0</th>\n",
       "      <td>0002111245-0001-1</td>\n",
       "      <td>RICHARD J. RIASSETTO</td>\n",
       "      <td>NaN</td>\n",
       "      <td>1314 W 83RD STREET</td>\n",
       "      <td>LOS ANGELES</td>\n",
       "      <td>90044-2261</td>\n",
       "      <td>1314 83RD 90044-2261</td>\n",
       "      <td>1807 OAK VIEW LANE</td>\n",
       "      <td>ARCADIA</td>\n",
       "      <td>91006-1621</td>\n",
       "      <td>531100.0</td>\n",
       "      <td>Lessors of real estate (including mini warehou...</td>\n",
       "      <td>8</td>\n",
       "      <td>1/1/2029</td>\n",
       "      <td>2029.0</td>\n",
       "      <td>NaN</td>\n",
       "      <td>(33.9636, -118.2989)</td>\n",
       "    </tr>\n",
       "    <tr>\n",
       "      <th>1</th>\n",
       "      <td>0000777322-0001-3</td>\n",
       "      <td>ROBIN DENNIS TAYLOR</td>\n",
       "      <td>DARKSTAR ELECTRONICS</td>\n",
       "      <td>13400 TREGO STREET</td>\n",
       "      <td>SYLMAR</td>\n",
       "      <td>91342-1852</td>\n",
       "      <td>13400 TREGO 91342-1852</td>\n",
       "      <td>NaN</td>\n",
       "      <td>NaN</td>\n",
       "      <td>NaN</td>\n",
       "      <td>235310.0</td>\n",
       "      <td>Electrical Contractors (1997 NAICS)</td>\n",
       "      <td>7</td>\n",
       "      <td>9/24/2028</td>\n",
       "      <td>2028.0</td>\n",
       "      <td>NaN</td>\n",
       "      <td>(34.3292, -118.4247)</td>\n",
       "    </tr>\n",
       "    <tr>\n",
       "      <th>2</th>\n",
       "      <td>0002674543-0001-3</td>\n",
       "      <td>INTERBORO PACKAGING CORP</td>\n",
       "      <td>NaN</td>\n",
       "      <td>114 BRACKEN ROAD</td>\n",
       "      <td>MONTGOMERY</td>\n",
       "      <td>12549-2600</td>\n",
       "      <td>114 BRACKEN 12549-2600</td>\n",
       "      <td>NaN</td>\n",
       "      <td>NaN</td>\n",
       "      <td>NaN</td>\n",
       "      <td>425120.0</td>\n",
       "      <td>Wholesale trade agents &amp; brokers</td>\n",
       "      <td>0</td>\n",
       "      <td>8/31/2028</td>\n",
       "      <td>2028.0</td>\n",
       "      <td>NaN</td>\n",
       "      <td>(41.5214, -74.1977)</td>\n",
       "    </tr>\n",
       "    <tr>\n",
       "      <th>3</th>\n",
       "      <td>0000953943-0002-1</td>\n",
       "      <td>APARTMENT ASSOCIATION CALIFORNIA SOUTHERN CITIES</td>\n",
       "      <td>NaN</td>\n",
       "      <td>333 W BROADWAY #101</td>\n",
       "      <td>LONG BEACH</td>\n",
       "      <td>90802-4438</td>\n",
       "      <td>333 BROADWAY 90802-4438</td>\n",
       "      <td>NaN</td>\n",
       "      <td>NaN</td>\n",
       "      <td>NaN</td>\n",
       "      <td>238990.0</td>\n",
       "      <td>All other specialty trade contractors</td>\n",
       "      <td>0</td>\n",
       "      <td>7/24/2024</td>\n",
       "      <td>2024.0</td>\n",
       "      <td>NaN</td>\n",
       "      <td>(33.7692, -118.1954)</td>\n",
       "    </tr>\n",
       "    <tr>\n",
       "      <th>4</th>\n",
       "      <td>0003229872-0001-1</td>\n",
       "      <td>PERLA HERNANDEZ</td>\n",
       "      <td>BLAZIN' TIRES</td>\n",
       "      <td>419 N BOYLE AVENUE   BUILDING</td>\n",
       "      <td>LOS ANGELES</td>\n",
       "      <td>90033-2441</td>\n",
       "      <td>419 BOYLE 90033</td>\n",
       "      <td>419 N BOYLE AVENUE   BUILDING</td>\n",
       "      <td>LOS ANGELES</td>\n",
       "      <td>90033-2441</td>\n",
       "      <td>NaN</td>\n",
       "      <td>NaN</td>\n",
       "      <td>14</td>\n",
       "      <td>12/20/2021</td>\n",
       "      <td>2021.0</td>\n",
       "      <td>NaN</td>\n",
       "      <td>(34.0506, -118.2182)</td>\n",
       "    </tr>\n",
       "    <tr>\n",
       "      <th>5</th>\n",
       "      <td>0003224946-0001-1</td>\n",
       "      <td>JANA RAE CORPUZ</td>\n",
       "      <td>NaN</td>\n",
       "      <td>1849   SAWTELLE BLVD   SUITE #610</td>\n",
       "      <td>LOS ANGELES</td>\n",
       "      <td>90025-7013</td>\n",
       "      <td>1849 SAWTELLE 90025</td>\n",
       "      <td>1849   SAWTELLE BLVD   SUITE #610</td>\n",
       "      <td>LOS ANGELES</td>\n",
       "      <td>90025-7013</td>\n",
       "      <td>621330.0</td>\n",
       "      <td>Offices of mental health practitioners (except...</td>\n",
       "      <td>11</td>\n",
       "      <td>12/15/2021</td>\n",
       "      <td>2021.0</td>\n",
       "      <td>NaN</td>\n",
       "      <td>(34.0425, -118.4454)</td>\n",
       "    </tr>\n",
       "    <tr>\n",
       "      <th>6</th>\n",
       "      <td>0003221820-0001-6</td>\n",
       "      <td>BUT FIRST COFFEE INC.</td>\n",
       "      <td>NaN</td>\n",
       "      <td>11301 W Olympic #206</td>\n",
       "      <td>Los Angeles</td>\n",
       "      <td>90064-1652</td>\n",
       "      <td>11301 OLYMPIC 90064</td>\n",
       "      <td>708 N Croft</td>\n",
       "      <td>Los Angeles</td>\n",
       "      <td>90069-5304</td>\n",
       "      <td>722211.0</td>\n",
       "      <td>Limited-service eating places</td>\n",
       "      <td>11</td>\n",
       "      <td>11/11/2021</td>\n",
       "      <td>2021.0</td>\n",
       "      <td>NaN</td>\n",
       "      <td>(34.0384, -118.442)</td>\n",
       "    </tr>\n",
       "    <tr>\n",
       "      <th>7</th>\n",
       "      <td>0003228342-0001-2</td>\n",
       "      <td>AMBITIOUS STRATEGIES LLC</td>\n",
       "      <td>NaN</td>\n",
       "      <td>614 E MANCHESTER BLVD   OFFICE</td>\n",
       "      <td>INGLEWOOD</td>\n",
       "      <td>90301-4800</td>\n",
       "      <td>614 MANCHESTER 90301</td>\n",
       "      <td>614 E MANCHESTER BLVD   OFFICE</td>\n",
       "      <td>INGLEWOOD</td>\n",
       "      <td>90301-4800</td>\n",
       "      <td>541600.0</td>\n",
       "      <td>Management, scientific, &amp; technical consulting...</td>\n",
       "      <td>0</td>\n",
       "      <td>9/18/2021</td>\n",
       "      <td>2021.0</td>\n",
       "      <td>NaN</td>\n",
       "      <td>(33.9602, -118.347)</td>\n",
       "    </tr>\n",
       "    <tr>\n",
       "      <th>8</th>\n",
       "      <td>0003228259-0001-0</td>\n",
       "      <td>GOOD SHEPHERD FELLOWSHIP</td>\n",
       "      <td>GOOD SHEPHERD UNIVERSITY</td>\n",
       "      <td>10880   WILSHIRE BLVD   #1101</td>\n",
       "      <td>LOS ANGELES</td>\n",
       "      <td>90024-4112</td>\n",
       "      <td>10880 WILSHIRE 90024</td>\n",
       "      <td>9935   LINDLEY AVENUE</td>\n",
       "      <td>NORTHRIDGE</td>\n",
       "      <td>91325-1044</td>\n",
       "      <td>611000.0</td>\n",
       "      <td>Educational services (including schools, colle...</td>\n",
       "      <td>5</td>\n",
       "      <td>9/1/2021</td>\n",
       "      <td>2021.0</td>\n",
       "      <td>NaN</td>\n",
       "      <td>(34.0585, -118.4429)</td>\n",
       "    </tr>\n",
       "    <tr>\n",
       "      <th>9</th>\n",
       "      <td>0003213455-0001-5</td>\n",
       "      <td>PORTO'S BAKERY NORTHRIDGE, INC.</td>\n",
       "      <td>NaN</td>\n",
       "      <td>19467 NORDHOFF STREET</td>\n",
       "      <td>NORTHRIDGE</td>\n",
       "      <td>91324-</td>\n",
       "      <td>19467 NORDHOFF 91324</td>\n",
       "      <td>3614 W MAGNOLIA BLVD</td>\n",
       "      <td>BURBANK</td>\n",
       "      <td>91505-2913</td>\n",
       "      <td>722110.0</td>\n",
       "      <td>Full-service restaurants</td>\n",
       "      <td>0</td>\n",
       "      <td>8/1/2021</td>\n",
       "      <td>2021.0</td>\n",
       "      <td>NaN</td>\n",
       "      <td>NaN</td>\n",
       "    </tr>\n",
       "  </tbody>\n",
       "</table>\n",
       "</div>"
      ],
      "text/plain": [
       "  LOCATION ACCOUNT #                                     BUSINESS NAME  \\\n",
       "0  0002111245-0001-1                              RICHARD J. RIASSETTO   \n",
       "1  0000777322-0001-3                               ROBIN DENNIS TAYLOR   \n",
       "2  0002674543-0001-3                          INTERBORO PACKAGING CORP   \n",
       "3  0000953943-0002-1  APARTMENT ASSOCIATION CALIFORNIA SOUTHERN CITIES   \n",
       "4  0003229872-0001-1                                   PERLA HERNANDEZ   \n",
       "5  0003224946-0001-1                                   JANA RAE CORPUZ   \n",
       "6  0003221820-0001-6                             BUT FIRST COFFEE INC.   \n",
       "7  0003228342-0001-2                          AMBITIOUS STRATEGIES LLC   \n",
       "8  0003228259-0001-0                          GOOD SHEPHERD FELLOWSHIP   \n",
       "9  0003213455-0001-5                   PORTO'S BAKERY NORTHRIDGE, INC.   \n",
       "\n",
       "                   DBA NAME                     STREET ADDRESS         CITY  \\\n",
       "0                       NaN                 1314 W 83RD STREET  LOS ANGELES   \n",
       "1      DARKSTAR ELECTRONICS                 13400 TREGO STREET       SYLMAR   \n",
       "2                       NaN                   114 BRACKEN ROAD   MONTGOMERY   \n",
       "3                       NaN                333 W BROADWAY #101   LONG BEACH   \n",
       "4             BLAZIN' TIRES      419 N BOYLE AVENUE   BUILDING  LOS ANGELES   \n",
       "5                       NaN  1849   SAWTELLE BLVD   SUITE #610  LOS ANGELES   \n",
       "6                       NaN               11301 W Olympic #206  Los Angeles   \n",
       "7                       NaN     614 E MANCHESTER BLVD   OFFICE    INGLEWOOD   \n",
       "8  GOOD SHEPHERD UNIVERSITY      10880   WILSHIRE BLVD   #1101  LOS ANGELES   \n",
       "9                       NaN              19467 NORDHOFF STREET   NORTHRIDGE   \n",
       "\n",
       "     ZIP CODE     LOCATION DESCRIPTION                    MAILING ADDRESS  \\\n",
       "0  90044-2261     1314 83RD 90044-2261                 1807 OAK VIEW LANE   \n",
       "1  91342-1852   13400 TREGO 91342-1852                                NaN   \n",
       "2  12549-2600   114 BRACKEN 12549-2600                                NaN   \n",
       "3  90802-4438  333 BROADWAY 90802-4438                                NaN   \n",
       "4  90033-2441          419 BOYLE 90033      419 N BOYLE AVENUE   BUILDING   \n",
       "5  90025-7013      1849 SAWTELLE 90025  1849   SAWTELLE BLVD   SUITE #610   \n",
       "6  90064-1652      11301 OLYMPIC 90064                        708 N Croft   \n",
       "7  90301-4800     614 MANCHESTER 90301     614 E MANCHESTER BLVD   OFFICE   \n",
       "8  90024-4112     10880 WILSHIRE 90024              9935   LINDLEY AVENUE   \n",
       "9      91324-     19467 NORDHOFF 91324               3614 W MAGNOLIA BLVD   \n",
       "\n",
       "  MAILING CITY MAILING ZIP CODE     NAICS  \\\n",
       "0      ARCADIA       91006-1621  531100.0   \n",
       "1          NaN              NaN  235310.0   \n",
       "2          NaN              NaN  425120.0   \n",
       "3          NaN              NaN  238990.0   \n",
       "4  LOS ANGELES       90033-2441       NaN   \n",
       "5  LOS ANGELES       90025-7013  621330.0   \n",
       "6  Los Angeles       90069-5304  722211.0   \n",
       "7    INGLEWOOD       90301-4800  541600.0   \n",
       "8   NORTHRIDGE       91325-1044  611000.0   \n",
       "9      BURBANK       91505-2913  722110.0   \n",
       "\n",
       "                           PRIMARY NAICS DESCRIPTION  COUNCIL DISTRICT  \\\n",
       "0  Lessors of real estate (including mini warehou...                 8   \n",
       "1                Electrical Contractors (1997 NAICS)                 7   \n",
       "2                   Wholesale trade agents & brokers                 0   \n",
       "3              All other specialty trade contractors                 0   \n",
       "4                                                NaN                14   \n",
       "5  Offices of mental health practitioners (except...                11   \n",
       "6                      Limited-service eating places                11   \n",
       "7  Management, scientific, & technical consulting...                 0   \n",
       "8  Educational services (including schools, colle...                 5   \n",
       "9                           Full-service restaurants                 0   \n",
       "\n",
       "  LOCATION START DATE  YEARS ONLY  LOCATION END DATE              LOCATION  \n",
       "0            1/1/2029      2029.0                NaN  (33.9636, -118.2989)  \n",
       "1           9/24/2028      2028.0                NaN  (34.3292, -118.4247)  \n",
       "2           8/31/2028      2028.0                NaN   (41.5214, -74.1977)  \n",
       "3           7/24/2024      2024.0                NaN  (33.7692, -118.1954)  \n",
       "4          12/20/2021      2021.0                NaN  (34.0506, -118.2182)  \n",
       "5          12/15/2021      2021.0                NaN  (34.0425, -118.4454)  \n",
       "6          11/11/2021      2021.0                NaN   (34.0384, -118.442)  \n",
       "7           9/18/2021      2021.0                NaN   (33.9602, -118.347)  \n",
       "8            9/1/2021      2021.0                NaN  (34.0585, -118.4429)  \n",
       "9            8/1/2021      2021.0                NaN                   NaN  "
      ]
     },
     "execution_count": 5,
     "metadata": {},
     "output_type": "execute_result"
    }
   ],
   "source": [
    "la_biz.head(10)"
   ]
  },
  {
   "cell_type": "markdown",
   "metadata": {},
   "source": [
    "Output: Because I used `head(10)`, the output shows the top 10 rows of the dataset. The order is in ascending chronological order, so the most recent additions to the dataset are at the top. Something interesting I found is that the latest \"Location Start Date\" is 1/01/2029. The dataset appears to contain businesses that are legally registered to the Office of Finance but aren't in operation yet."
   ]
  },
  {
   "cell_type": "markdown",
   "metadata": {},
   "source": [
    "Purpose: I use `sample()` to pull random rows from the dataset."
   ]
  },
  {
   "cell_type": "code",
   "execution_count": 6,
   "metadata": {},
   "outputs": [
    {
     "data": {
      "text/html": [
       "<div>\n",
       "<style scoped>\n",
       "    .dataframe tbody tr th:only-of-type {\n",
       "        vertical-align: middle;\n",
       "    }\n",
       "\n",
       "    .dataframe tbody tr th {\n",
       "        vertical-align: top;\n",
       "    }\n",
       "\n",
       "    .dataframe thead th {\n",
       "        text-align: right;\n",
       "    }\n",
       "</style>\n",
       "<table border=\"1\" class=\"dataframe\">\n",
       "  <thead>\n",
       "    <tr style=\"text-align: right;\">\n",
       "      <th></th>\n",
       "      <th>LOCATION ACCOUNT #</th>\n",
       "      <th>BUSINESS NAME</th>\n",
       "      <th>DBA NAME</th>\n",
       "      <th>STREET ADDRESS</th>\n",
       "      <th>CITY</th>\n",
       "      <th>ZIP CODE</th>\n",
       "      <th>LOCATION DESCRIPTION</th>\n",
       "      <th>MAILING ADDRESS</th>\n",
       "      <th>MAILING CITY</th>\n",
       "      <th>MAILING ZIP CODE</th>\n",
       "      <th>NAICS</th>\n",
       "      <th>PRIMARY NAICS DESCRIPTION</th>\n",
       "      <th>COUNCIL DISTRICT</th>\n",
       "      <th>LOCATION START DATE</th>\n",
       "      <th>YEARS ONLY</th>\n",
       "      <th>LOCATION END DATE</th>\n",
       "      <th>LOCATION</th>\n",
       "    </tr>\n",
       "  </thead>\n",
       "  <tbody>\n",
       "    <tr>\n",
       "      <th>325092</th>\n",
       "      <td>0000116620-0004-5</td>\n",
       "      <td>NATIONAL COUNCIL OF JEWISH WOMEN INC/LOS ANGEL...</td>\n",
       "      <td>NaN</td>\n",
       "      <td>12203 VENTURA BLVD</td>\n",
       "      <td>STUDIO CITY</td>\n",
       "      <td>91604-2519</td>\n",
       "      <td>12203 VENTURA 91604-2519</td>\n",
       "      <td>543 N FAIRFAX AVENUE</td>\n",
       "      <td>LOS ANGELES</td>\n",
       "      <td>90036-1715</td>\n",
       "      <td>453310.0</td>\n",
       "      <td>Used merchandise stores</td>\n",
       "      <td>2</td>\n",
       "      <td>3/15/2010</td>\n",
       "      <td>2010.0</td>\n",
       "      <td>NaN</td>\n",
       "      <td>(34.1433, -118.3982)</td>\n",
       "    </tr>\n",
       "    <tr>\n",
       "      <th>188658</th>\n",
       "      <td>0003105566-0001-4</td>\n",
       "      <td>ROE PROPERTY</td>\n",
       "      <td>NaN</td>\n",
       "      <td>10982   ROEBLING AVENUE</td>\n",
       "      <td>LOS ANGELES</td>\n",
       "      <td>90024-2753</td>\n",
       "      <td>10982 ROEBLING 90024-2753</td>\n",
       "      <td>NaN</td>\n",
       "      <td>NaN</td>\n",
       "      <td>NaN</td>\n",
       "      <td>532310.0</td>\n",
       "      <td>General rental centers</td>\n",
       "      <td>5</td>\n",
       "      <td>7/1/2015</td>\n",
       "      <td>2015.0</td>\n",
       "      <td>NaN</td>\n",
       "      <td>(34.0645, -118.4492)</td>\n",
       "    </tr>\n",
       "    <tr>\n",
       "      <th>449256</th>\n",
       "      <td>0002038304-0001-8</td>\n",
       "      <td>SUR BIN CHANG</td>\n",
       "      <td>NaN</td>\n",
       "      <td>6936 TAMPA AVENUE</td>\n",
       "      <td>RESEDA</td>\n",
       "      <td>91335-3746</td>\n",
       "      <td>6936 TAMPA 91335-3746</td>\n",
       "      <td>NaN</td>\n",
       "      <td>NaN</td>\n",
       "      <td>NaN</td>\n",
       "      <td>NaN</td>\n",
       "      <td>NaN</td>\n",
       "      <td>3</td>\n",
       "      <td>1/1/2001</td>\n",
       "      <td>2001.0</td>\n",
       "      <td>NaN</td>\n",
       "      <td>(34.1963, -118.5535)</td>\n",
       "    </tr>\n",
       "    <tr>\n",
       "      <th>353895</th>\n",
       "      <td>0002328555-0001-7</td>\n",
       "      <td>GURGEN GRIGORYAN</td>\n",
       "      <td>NaN</td>\n",
       "      <td>16325 STARE STREET</td>\n",
       "      <td>NORTH HILLS</td>\n",
       "      <td>91343-1326</td>\n",
       "      <td>16325 STARE 91343-1326</td>\n",
       "      <td>NaN</td>\n",
       "      <td>NaN</td>\n",
       "      <td>NaN</td>\n",
       "      <td>523130.0</td>\n",
       "      <td>Commodity contracts dealers</td>\n",
       "      <td>12</td>\n",
       "      <td>4/2/2008</td>\n",
       "      <td>2008.0</td>\n",
       "      <td>NaN</td>\n",
       "      <td>(34.2529, -118.4877)</td>\n",
       "    </tr>\n",
       "    <tr>\n",
       "      <th>258458</th>\n",
       "      <td>0002682161-0001-1</td>\n",
       "      <td>PAMELA JEAN BROWN ZACCAGNINO</td>\n",
       "      <td>NaN</td>\n",
       "      <td>19330 SATICOY STREET #120</td>\n",
       "      <td>RESEDA</td>\n",
       "      <td>91335-2333</td>\n",
       "      <td>19330 SATICOY 91335-2333</td>\n",
       "      <td>NaN</td>\n",
       "      <td>NaN</td>\n",
       "      <td>NaN</td>\n",
       "      <td>812990.0</td>\n",
       "      <td>All other personal services</td>\n",
       "      <td>3</td>\n",
       "      <td>5/17/2013</td>\n",
       "      <td>2013.0</td>\n",
       "      <td>NaN</td>\n",
       "      <td>(34.2083, -118.5542)</td>\n",
       "    </tr>\n",
       "  </tbody>\n",
       "</table>\n",
       "</div>"
      ],
      "text/plain": [
       "       LOCATION ACCOUNT #                                      BUSINESS NAME  \\\n",
       "325092  0000116620-0004-5  NATIONAL COUNCIL OF JEWISH WOMEN INC/LOS ANGEL...   \n",
       "188658  0003105566-0001-4                                       ROE PROPERTY   \n",
       "449256  0002038304-0001-8                                      SUR BIN CHANG   \n",
       "353895  0002328555-0001-7                                   GURGEN GRIGORYAN   \n",
       "258458  0002682161-0001-1                       PAMELA JEAN BROWN ZACCAGNINO   \n",
       "\n",
       "       DBA NAME             STREET ADDRESS         CITY    ZIP CODE  \\\n",
       "325092      NaN         12203 VENTURA BLVD  STUDIO CITY  91604-2519   \n",
       "188658      NaN    10982   ROEBLING AVENUE  LOS ANGELES  90024-2753   \n",
       "449256      NaN          6936 TAMPA AVENUE       RESEDA  91335-3746   \n",
       "353895      NaN         16325 STARE STREET  NORTH HILLS  91343-1326   \n",
       "258458      NaN  19330 SATICOY STREET #120       RESEDA  91335-2333   \n",
       "\n",
       "             LOCATION DESCRIPTION       MAILING ADDRESS MAILING CITY  \\\n",
       "325092   12203 VENTURA 91604-2519  543 N FAIRFAX AVENUE  LOS ANGELES   \n",
       "188658  10982 ROEBLING 90024-2753                   NaN          NaN   \n",
       "449256      6936 TAMPA 91335-3746                   NaN          NaN   \n",
       "353895     16325 STARE 91343-1326                   NaN          NaN   \n",
       "258458   19330 SATICOY 91335-2333                   NaN          NaN   \n",
       "\n",
       "       MAILING ZIP CODE     NAICS    PRIMARY NAICS DESCRIPTION  \\\n",
       "325092       90036-1715  453310.0      Used merchandise stores   \n",
       "188658              NaN  532310.0       General rental centers   \n",
       "449256              NaN       NaN                          NaN   \n",
       "353895              NaN  523130.0  Commodity contracts dealers   \n",
       "258458              NaN  812990.0  All other personal services   \n",
       "\n",
       "        COUNCIL DISTRICT LOCATION START DATE  YEARS ONLY  LOCATION END DATE  \\\n",
       "325092                 2           3/15/2010      2010.0                NaN   \n",
       "188658                 5            7/1/2015      2015.0                NaN   \n",
       "449256                 3            1/1/2001      2001.0                NaN   \n",
       "353895                12            4/2/2008      2008.0                NaN   \n",
       "258458                 3           5/17/2013      2013.0                NaN   \n",
       "\n",
       "                    LOCATION  \n",
       "325092  (34.1433, -118.3982)  \n",
       "188658  (34.0645, -118.4492)  \n",
       "449256  (34.1963, -118.5535)  \n",
       "353895  (34.2529, -118.4877)  \n",
       "258458  (34.2083, -118.5542)  "
      ]
     },
     "execution_count": 6,
     "metadata": {},
     "output_type": "execute_result"
    }
   ],
   "source": [
    "la_biz.sample(5)"
   ]
  },
  {
   "cell_type": "markdown",
   "metadata": {},
   "source": [
    "Output: Because I used `sample(5)`, the output shows 5 random rows from the dataset. Doing this gives a well-rounded understanding of the dataset."
   ]
  },
  {
   "cell_type": "markdown",
   "metadata": {},
   "source": [
    "## Make a Time Chart"
   ]
  },
  {
   "cell_type": "markdown",
   "metadata": {},
   "source": [
    "Purpose: I use `astype(object)` to convert the 'YEARS ONLY' column from float64 to object. I need the datatype to be an object to create a time chart."
   ]
  },
  {
   "cell_type": "code",
   "execution_count": 7,
   "metadata": {},
   "outputs": [
    {
     "name": "stdout",
     "output_type": "stream",
     "text": [
      "<class 'pandas.core.frame.DataFrame'>\n",
      "RangeIndex: 542286 entries, 0 to 542285\n",
      "Data columns (total 17 columns):\n",
      " #   Column                     Non-Null Count   Dtype  \n",
      "---  ------                     --------------   -----  \n",
      " 0   LOCATION ACCOUNT #         542286 non-null  object \n",
      " 1   BUSINESS NAME              542286 non-null  object \n",
      " 2   DBA NAME                   187463 non-null  object \n",
      " 3   STREET ADDRESS             542283 non-null  object \n",
      " 4   CITY                       542243 non-null  object \n",
      " 5   ZIP CODE                   542286 non-null  object \n",
      " 6   LOCATION DESCRIPTION       542253 non-null  object \n",
      " 7   MAILING ADDRESS            260496 non-null  object \n",
      " 8   MAILING CITY               260502 non-null  object \n",
      " 9   MAILING ZIP CODE           260415 non-null  object \n",
      " 10  NAICS                      486309 non-null  float64\n",
      " 11  PRIMARY NAICS DESCRIPTION  486309 non-null  object \n",
      " 12  COUNCIL DISTRICT           542286 non-null  int64  \n",
      " 13  LOCATION START DATE        538695 non-null  object \n",
      " 14  YEARS ONLY                 538695 non-null  object \n",
      " 15  LOCATION END DATE          0 non-null       float64\n",
      " 16  LOCATION                   533017 non-null  object \n",
      "dtypes: float64(2), int64(1), object(14)\n",
      "memory usage: 70.3+ MB\n"
     ]
    }
   ],
   "source": [
    "la_biz['YEARS ONLY'] = la_biz['YEARS ONLY'].astype(object)\n",
    "la_biz.info()"
   ]
  },
  {
   "cell_type": "markdown",
   "metadata": {},
   "source": [
    "Output: The 'YEARS ONLY' column is now an object (string)."
   ]
  },
  {
   "cell_type": "markdown",
   "metadata": {},
   "source": [
    "Purpose: I summarize data by year and put the results in a dataframe using `reset_index`."
   ]
  },
  {
   "cell_type": "code",
   "execution_count": 8,
   "metadata": {},
   "outputs": [
    {
     "data": {
      "text/html": [
       "<div>\n",
       "<style scoped>\n",
       "    .dataframe tbody tr th:only-of-type {\n",
       "        vertical-align: middle;\n",
       "    }\n",
       "\n",
       "    .dataframe tbody tr th {\n",
       "        vertical-align: top;\n",
       "    }\n",
       "\n",
       "    .dataframe thead th {\n",
       "        text-align: right;\n",
       "    }\n",
       "</style>\n",
       "<table border=\"1\" class=\"dataframe\">\n",
       "  <thead>\n",
       "    <tr style=\"text-align: right;\">\n",
       "      <th></th>\n",
       "      <th>index</th>\n",
       "      <th>YEARS ONLY</th>\n",
       "    </tr>\n",
       "  </thead>\n",
       "  <tbody>\n",
       "    <tr>\n",
       "      <th>0</th>\n",
       "      <td>2018.0</td>\n",
       "      <td>38241</td>\n",
       "    </tr>\n",
       "    <tr>\n",
       "      <th>1</th>\n",
       "      <td>2015.0</td>\n",
       "      <td>37983</td>\n",
       "    </tr>\n",
       "    <tr>\n",
       "      <th>2</th>\n",
       "      <td>2017.0</td>\n",
       "      <td>36344</td>\n",
       "    </tr>\n",
       "    <tr>\n",
       "      <th>3</th>\n",
       "      <td>2019.0</td>\n",
       "      <td>35985</td>\n",
       "    </tr>\n",
       "    <tr>\n",
       "      <th>4</th>\n",
       "      <td>2016.0</td>\n",
       "      <td>35974</td>\n",
       "    </tr>\n",
       "    <tr>\n",
       "      <th>...</th>\n",
       "      <td>...</td>\n",
       "      <td>...</td>\n",
       "    </tr>\n",
       "    <tr>\n",
       "      <th>88</th>\n",
       "      <td>2029.0</td>\n",
       "      <td>1</td>\n",
       "    </tr>\n",
       "    <tr>\n",
       "      <th>89</th>\n",
       "      <td>1939.0</td>\n",
       "      <td>1</td>\n",
       "    </tr>\n",
       "    <tr>\n",
       "      <th>90</th>\n",
       "      <td>1940.0</td>\n",
       "      <td>1</td>\n",
       "    </tr>\n",
       "    <tr>\n",
       "      <th>91</th>\n",
       "      <td>2024.0</td>\n",
       "      <td>1</td>\n",
       "    </tr>\n",
       "    <tr>\n",
       "      <th>92</th>\n",
       "      <td>1931.0</td>\n",
       "      <td>1</td>\n",
       "    </tr>\n",
       "  </tbody>\n",
       "</table>\n",
       "<p>93 rows × 2 columns</p>\n",
       "</div>"
      ],
      "text/plain": [
       "     index  YEARS ONLY\n",
       "0   2018.0       38241\n",
       "1   2015.0       37983\n",
       "2   2017.0       36344\n",
       "3   2019.0       35985\n",
       "4   2016.0       35974\n",
       "..     ...         ...\n",
       "88  2029.0           1\n",
       "89  1939.0           1\n",
       "90  1940.0           1\n",
       "91  2024.0           1\n",
       "92  1931.0           1\n",
       "\n",
       "[93 rows x 2 columns]"
      ]
     },
     "execution_count": 8,
     "metadata": {},
     "output_type": "execute_result"
    }
   ],
   "source": [
    "la_date = la_biz['YEARS ONLY'].value_counts().reset_index()\n",
    "la_date"
   ]
  },
  {
   "cell_type": "markdown",
   "metadata": {},
   "source": [
    "Output: The output is now a dataframe that can now be plotted. The dataframe is organized by the year with the highest counts on the top with the lowest on the bottom."
   ]
  },
  {
   "cell_type": "markdown",
   "metadata": {},
   "source": [
    "Purpose: I use `rename()` to specifically rename old column headers, 'index' and 'YEARS ONLY,' to something more appropriate. "
   ]
  },
  {
   "cell_type": "code",
   "execution_count": 9,
   "metadata": {},
   "outputs": [
    {
     "data": {
      "text/html": [
       "<div>\n",
       "<style scoped>\n",
       "    .dataframe tbody tr th:only-of-type {\n",
       "        vertical-align: middle;\n",
       "    }\n",
       "\n",
       "    .dataframe tbody tr th {\n",
       "        vertical-align: top;\n",
       "    }\n",
       "\n",
       "    .dataframe thead th {\n",
       "        text-align: right;\n",
       "    }\n",
       "</style>\n",
       "<table border=\"1\" class=\"dataframe\">\n",
       "  <thead>\n",
       "    <tr style=\"text-align: right;\">\n",
       "      <th></th>\n",
       "      <th>year</th>\n",
       "      <th>count</th>\n",
       "    </tr>\n",
       "  </thead>\n",
       "  <tbody>\n",
       "    <tr>\n",
       "      <th>0</th>\n",
       "      <td>2018.0</td>\n",
       "      <td>38241</td>\n",
       "    </tr>\n",
       "    <tr>\n",
       "      <th>1</th>\n",
       "      <td>2015.0</td>\n",
       "      <td>37983</td>\n",
       "    </tr>\n",
       "    <tr>\n",
       "      <th>2</th>\n",
       "      <td>2017.0</td>\n",
       "      <td>36344</td>\n",
       "    </tr>\n",
       "    <tr>\n",
       "      <th>3</th>\n",
       "      <td>2019.0</td>\n",
       "      <td>35985</td>\n",
       "    </tr>\n",
       "    <tr>\n",
       "      <th>4</th>\n",
       "      <td>2016.0</td>\n",
       "      <td>35974</td>\n",
       "    </tr>\n",
       "    <tr>\n",
       "      <th>...</th>\n",
       "      <td>...</td>\n",
       "      <td>...</td>\n",
       "    </tr>\n",
       "    <tr>\n",
       "      <th>88</th>\n",
       "      <td>2029.0</td>\n",
       "      <td>1</td>\n",
       "    </tr>\n",
       "    <tr>\n",
       "      <th>89</th>\n",
       "      <td>1939.0</td>\n",
       "      <td>1</td>\n",
       "    </tr>\n",
       "    <tr>\n",
       "      <th>90</th>\n",
       "      <td>1940.0</td>\n",
       "      <td>1</td>\n",
       "    </tr>\n",
       "    <tr>\n",
       "      <th>91</th>\n",
       "      <td>2024.0</td>\n",
       "      <td>1</td>\n",
       "    </tr>\n",
       "    <tr>\n",
       "      <th>92</th>\n",
       "      <td>1931.0</td>\n",
       "      <td>1</td>\n",
       "    </tr>\n",
       "  </tbody>\n",
       "</table>\n",
       "<p>93 rows × 2 columns</p>\n",
       "</div>"
      ],
      "text/plain": [
       "      year  count\n",
       "0   2018.0  38241\n",
       "1   2015.0  37983\n",
       "2   2017.0  36344\n",
       "3   2019.0  35985\n",
       "4   2016.0  35974\n",
       "..     ...    ...\n",
       "88  2029.0      1\n",
       "89  1939.0      1\n",
       "90  1940.0      1\n",
       "91  2024.0      1\n",
       "92  1931.0      1\n",
       "\n",
       "[93 rows x 2 columns]"
      ]
     },
     "execution_count": 9,
     "metadata": {},
     "output_type": "execute_result"
    }
   ],
   "source": [
    "la_date = la_date.rename(columns={'index':'year','YEARS ONLY':'count'})\n",
    "la_date"
   ]
  },
  {
   "cell_type": "markdown",
   "metadata": {},
   "source": [
    "Output: The output shows the desired headers: 'year' and 'count.'"
   ]
  },
  {
   "cell_type": "markdown",
   "metadata": {},
   "source": [
    "Purpose: I sort the values in the dataframe by year."
   ]
  },
  {
   "cell_type": "code",
   "execution_count": 10,
   "metadata": {},
   "outputs": [],
   "source": [
    "la_date = la_date.sort_values(by='year')"
   ]
  },
  {
   "cell_type": "markdown",
   "metadata": {},
   "source": [
    "Purpose: I plot the la_data dataframe as a time chart. It's important to look at the fluctuation patterns of the plot, as they can provide meaningful insight of the worldy reality during those moment of time."
   ]
  },
  {
   "cell_type": "code",
   "execution_count": 11,
   "metadata": {},
   "outputs": [
    {
     "data": {
      "text/plain": [
       "<matplotlib.axes._subplots.AxesSubplot at 0x7fe34b31e3d0>"
      ]
     },
     "execution_count": 11,
     "metadata": {},
     "output_type": "execute_result"
    },
    {
     "data": {
      "image/png": "[encoded data removed]",
      "text/plain": [
       "<Figure size 720x360 with 1 Axes>"
      ]
     },
     "metadata": {
      "needs_background": "light"
     },
     "output_type": "display_data"
    }
   ],
   "source": [
    "la_date.plot(figsize=(10,5), x='year', title='Count of LA businesses and when they were started')"
   ]
  },
  {
   "cell_type": "markdown",
   "metadata": {},
   "source": [
    "Output: The output is a time chart that shows the number of newly started LA businesses over time. The dips and peaks are worth paying attention to because they speak to the influence of external influences on the economy. For example, 2014-2015 appears to have a rise in new businesses, as this period in the US was known for economic prosperitiy. That said, there is an expected drop in new businesses during 2020, which is highly contributed to the impacts of the COVID-19 and resulting recession. "
   ]
  },
  {
   "cell_type": "markdown",
   "metadata": {},
   "source": [
    "## Make a Horizontal Bar Chart"
   ]
  },
  {
   "cell_type": "markdown",
   "metadata": {},
   "source": [
    "Purpose: I use `value_counts()` to individually count the different values in the 'PRIMARY NAICS DESCRIPTION' column. I then assign the value_counts to a handler."
   ]
  },
  {
   "cell_type": "code",
   "execution_count": 12,
   "metadata": {},
   "outputs": [
    {
     "data": {
      "text/plain": [
       "Lessors of real estate (including mini warehouses & self-storage units)                                                                                                 42866\n",
       "All other personal services                                                                                                                                             31780\n",
       "Independent artists, writers, & performers                                                                                                                              27673\n",
       "Single Family Housing Construction (1997 NAICS)                                                                                                                         14851\n",
       "Motion picture & video industries (except video rental)                                                                                                                 14150\n",
       "                                                                                                                                                                        ...  \n",
       "Other amusement & recreation services (including golf courses, skiing facilities, marinas, fitness centers, bowling centers, skating rinks, miniature golf\\ncourses)        8\n",
       "Other direct selling establishments (including door-to-door retailing, frozen food plan providers, party plan merchandisers, & coffee-break service\\nproviders)             5\n",
       "Utilities                                                                                                                                                                   3\n",
       "Paging                                                                                                                                                                      2\n",
       "Other amusement & recreation services (including golf courses, skiing facilities, marinas, fitness centers, bowling centers, skating rinks,\\nminiature golf courses)        1\n",
       "Name: PRIMARY NAICS DESCRIPTION, Length: 291, dtype: int64"
      ]
     },
     "execution_count": 12,
     "metadata": {},
     "output_type": "execute_result"
    }
   ],
   "source": [
    "la_biz[\"PRIMARY NAICS DESCRIPTION\"].value_counts()\n",
    "NAICS_count=la_biz[\"PRIMARY NAICS DESCRIPTION\"].value_counts()\n",
    "NAICS_count"
   ]
  },
  {
   "cell_type": "markdown",
   "metadata": {},
   "source": [
    "Output: The output organizes the different Primary NAICS Descriptions (Industry) by value counts--with the most at top and the lowest at the bottom. Lessors of real estate (eg, landlords and property managements) are the most abundant industry in LA, whereas Other amusement & recreation services are the lowest. "
   ]
  },
  {
   "cell_type": "markdown",
   "metadata": {},
   "source": [
    "Purpose: I summarize data by primary naics description and put the results in a dataframe using reset_index."
   ]
  },
  {
   "cell_type": "code",
   "execution_count": 13,
   "metadata": {},
   "outputs": [
    {
     "data": {
      "text/html": [
       "<div>\n",
       "<style scoped>\n",
       "    .dataframe tbody tr th:only-of-type {\n",
       "        vertical-align: middle;\n",
       "    }\n",
       "\n",
       "    .dataframe tbody tr th {\n",
       "        vertical-align: top;\n",
       "    }\n",
       "\n",
       "    .dataframe thead th {\n",
       "        text-align: right;\n",
       "    }\n",
       "</style>\n",
       "<table border=\"1\" class=\"dataframe\">\n",
       "  <thead>\n",
       "    <tr style=\"text-align: right;\">\n",
       "      <th></th>\n",
       "      <th>index</th>\n",
       "      <th>PRIMARY NAICS DESCRIPTION</th>\n",
       "    </tr>\n",
       "  </thead>\n",
       "  <tbody>\n",
       "    <tr>\n",
       "      <th>0</th>\n",
       "      <td>Lessors of real estate (including mini warehou...</td>\n",
       "      <td>42866</td>\n",
       "    </tr>\n",
       "    <tr>\n",
       "      <th>1</th>\n",
       "      <td>All other personal services</td>\n",
       "      <td>31780</td>\n",
       "    </tr>\n",
       "    <tr>\n",
       "      <th>2</th>\n",
       "      <td>Independent artists, writers, &amp; performers</td>\n",
       "      <td>27673</td>\n",
       "    </tr>\n",
       "    <tr>\n",
       "      <th>3</th>\n",
       "      <td>Single Family Housing Construction (1997 NAICS)</td>\n",
       "      <td>14851</td>\n",
       "    </tr>\n",
       "    <tr>\n",
       "      <th>4</th>\n",
       "      <td>Motion picture &amp; video industries (except vide...</td>\n",
       "      <td>14150</td>\n",
       "    </tr>\n",
       "    <tr>\n",
       "      <th>...</th>\n",
       "      <td>...</td>\n",
       "      <td>...</td>\n",
       "    </tr>\n",
       "    <tr>\n",
       "      <th>286</th>\n",
       "      <td>Other amusement &amp; recreation services (includi...</td>\n",
       "      <td>8</td>\n",
       "    </tr>\n",
       "    <tr>\n",
       "      <th>287</th>\n",
       "      <td>Other direct selling establishments (including...</td>\n",
       "      <td>5</td>\n",
       "    </tr>\n",
       "    <tr>\n",
       "      <th>288</th>\n",
       "      <td>Utilities</td>\n",
       "      <td>3</td>\n",
       "    </tr>\n",
       "    <tr>\n",
       "      <th>289</th>\n",
       "      <td>Paging</td>\n",
       "      <td>2</td>\n",
       "    </tr>\n",
       "    <tr>\n",
       "      <th>290</th>\n",
       "      <td>Other amusement &amp; recreation services (includi...</td>\n",
       "      <td>1</td>\n",
       "    </tr>\n",
       "  </tbody>\n",
       "</table>\n",
       "<p>291 rows × 2 columns</p>\n",
       "</div>"
      ],
      "text/plain": [
       "                                                 index  \\\n",
       "0    Lessors of real estate (including mini warehou...   \n",
       "1                          All other personal services   \n",
       "2           Independent artists, writers, & performers   \n",
       "3      Single Family Housing Construction (1997 NAICS)   \n",
       "4    Motion picture & video industries (except vide...   \n",
       "..                                                 ...   \n",
       "286  Other amusement & recreation services (includi...   \n",
       "287  Other direct selling establishments (including...   \n",
       "288                                          Utilities   \n",
       "289                                             Paging   \n",
       "290  Other amusement & recreation services (includi...   \n",
       "\n",
       "     PRIMARY NAICS DESCRIPTION  \n",
       "0                        42866  \n",
       "1                        31780  \n",
       "2                        27673  \n",
       "3                        14851  \n",
       "4                        14150  \n",
       "..                         ...  \n",
       "286                          8  \n",
       "287                          5  \n",
       "288                          3  \n",
       "289                          2  \n",
       "290                          1  \n",
       "\n",
       "[291 rows x 2 columns]"
      ]
     },
     "execution_count": 13,
     "metadata": {},
     "output_type": "execute_result"
    }
   ],
   "source": [
    "NAICS_count=NAICS_count.reset_index()\n",
    "NAICS_count"
   ]
  },
  {
   "cell_type": "markdown",
   "metadata": {},
   "source": [
    "Output: The output is now a dataframe that can now be plotted."
   ]
  },
  {
   "cell_type": "markdown",
   "metadata": {},
   "source": [
    "Purpose: I use `rename()` to specifically rename old column headers, 'index' and 'PRIMARY NAICS DESCRIPTION,' to something more appropriate."
   ]
  },
  {
   "cell_type": "code",
   "execution_count": 14,
   "metadata": {},
   "outputs": [
    {
     "data": {
      "text/html": [
       "<div>\n",
       "<style scoped>\n",
       "    .dataframe tbody tr th:only-of-type {\n",
       "        vertical-align: middle;\n",
       "    }\n",
       "\n",
       "    .dataframe tbody tr th {\n",
       "        vertical-align: top;\n",
       "    }\n",
       "\n",
       "    .dataframe thead th {\n",
       "        text-align: right;\n",
       "    }\n",
       "</style>\n",
       "<table border=\"1\" class=\"dataframe\">\n",
       "  <thead>\n",
       "    <tr style=\"text-align: right;\">\n",
       "      <th></th>\n",
       "      <th>NAICS (Industry)</th>\n",
       "      <th>count</th>\n",
       "    </tr>\n",
       "  </thead>\n",
       "  <tbody>\n",
       "    <tr>\n",
       "      <th>0</th>\n",
       "      <td>Lessors of real estate (including mini warehou...</td>\n",
       "      <td>42866</td>\n",
       "    </tr>\n",
       "    <tr>\n",
       "      <th>1</th>\n",
       "      <td>All other personal services</td>\n",
       "      <td>31780</td>\n",
       "    </tr>\n",
       "    <tr>\n",
       "      <th>2</th>\n",
       "      <td>Independent artists, writers, &amp; performers</td>\n",
       "      <td>27673</td>\n",
       "    </tr>\n",
       "    <tr>\n",
       "      <th>3</th>\n",
       "      <td>Single Family Housing Construction (1997 NAICS)</td>\n",
       "      <td>14851</td>\n",
       "    </tr>\n",
       "    <tr>\n",
       "      <th>4</th>\n",
       "      <td>Motion picture &amp; video industries (except vide...</td>\n",
       "      <td>14150</td>\n",
       "    </tr>\n",
       "    <tr>\n",
       "      <th>...</th>\n",
       "      <td>...</td>\n",
       "      <td>...</td>\n",
       "    </tr>\n",
       "    <tr>\n",
       "      <th>286</th>\n",
       "      <td>Other amusement &amp; recreation services (includi...</td>\n",
       "      <td>8</td>\n",
       "    </tr>\n",
       "    <tr>\n",
       "      <th>287</th>\n",
       "      <td>Other direct selling establishments (including...</td>\n",
       "      <td>5</td>\n",
       "    </tr>\n",
       "    <tr>\n",
       "      <th>288</th>\n",
       "      <td>Utilities</td>\n",
       "      <td>3</td>\n",
       "    </tr>\n",
       "    <tr>\n",
       "      <th>289</th>\n",
       "      <td>Paging</td>\n",
       "      <td>2</td>\n",
       "    </tr>\n",
       "    <tr>\n",
       "      <th>290</th>\n",
       "      <td>Other amusement &amp; recreation services (includi...</td>\n",
       "      <td>1</td>\n",
       "    </tr>\n",
       "  </tbody>\n",
       "</table>\n",
       "<p>291 rows × 2 columns</p>\n",
       "</div>"
      ],
      "text/plain": [
       "                                      NAICS (Industry)  count\n",
       "0    Lessors of real estate (including mini warehou...  42866\n",
       "1                          All other personal services  31780\n",
       "2           Independent artists, writers, & performers  27673\n",
       "3      Single Family Housing Construction (1997 NAICS)  14851\n",
       "4    Motion picture & video industries (except vide...  14150\n",
       "..                                                 ...    ...\n",
       "286  Other amusement & recreation services (includi...      8\n",
       "287  Other direct selling establishments (including...      5\n",
       "288                                          Utilities      3\n",
       "289                                             Paging      2\n",
       "290  Other amusement & recreation services (includi...      1\n",
       "\n",
       "[291 rows x 2 columns]"
      ]
     },
     "execution_count": 14,
     "metadata": {},
     "output_type": "execute_result"
    }
   ],
   "source": [
    "NAICS_count=NAICS_count.rename(columns={'index':'NAICS (Industry)','PRIMARY NAICS DESCRIPTION':'count'})\n",
    "NAICS_count"
   ]
  },
  {
   "cell_type": "markdown",
   "metadata": {},
   "source": [
    "Output: The output shows the desired headers: 'NAICS (Industry)' and 'count.'"
   ]
  },
  {
   "cell_type": "markdown",
   "metadata": {},
   "source": [
    "Purpose: I sort and reverse the order of the y-axis of a horizontal bar graph."
   ]
  },
  {
   "cell_type": "code",
   "execution_count": 15,
   "metadata": {},
   "outputs": [
    {
     "data": {
      "text/html": [
       "<div>\n",
       "<style scoped>\n",
       "    .dataframe tbody tr th:only-of-type {\n",
       "        vertical-align: middle;\n",
       "    }\n",
       "\n",
       "    .dataframe tbody tr th {\n",
       "        vertical-align: top;\n",
       "    }\n",
       "\n",
       "    .dataframe thead th {\n",
       "        text-align: right;\n",
       "    }\n",
       "</style>\n",
       "<table border=\"1\" class=\"dataframe\">\n",
       "  <thead>\n",
       "    <tr style=\"text-align: right;\">\n",
       "      <th></th>\n",
       "      <th>NAICS (Industry)</th>\n",
       "      <th>count</th>\n",
       "    </tr>\n",
       "  </thead>\n",
       "  <tbody>\n",
       "    <tr>\n",
       "      <th>290</th>\n",
       "      <td>Other amusement &amp; recreation services (includi...</td>\n",
       "      <td>1</td>\n",
       "    </tr>\n",
       "    <tr>\n",
       "      <th>289</th>\n",
       "      <td>Paging</td>\n",
       "      <td>2</td>\n",
       "    </tr>\n",
       "    <tr>\n",
       "      <th>288</th>\n",
       "      <td>Utilities</td>\n",
       "      <td>3</td>\n",
       "    </tr>\n",
       "    <tr>\n",
       "      <th>287</th>\n",
       "      <td>Other direct selling establishments (including...</td>\n",
       "      <td>5</td>\n",
       "    </tr>\n",
       "    <tr>\n",
       "      <th>286</th>\n",
       "      <td>Other amusement &amp; recreation services (includi...</td>\n",
       "      <td>8</td>\n",
       "    </tr>\n",
       "    <tr>\n",
       "      <th>...</th>\n",
       "      <td>...</td>\n",
       "      <td>...</td>\n",
       "    </tr>\n",
       "    <tr>\n",
       "      <th>4</th>\n",
       "      <td>Motion picture &amp; video industries (except vide...</td>\n",
       "      <td>14150</td>\n",
       "    </tr>\n",
       "    <tr>\n",
       "      <th>3</th>\n",
       "      <td>Single Family Housing Construction (1997 NAICS)</td>\n",
       "      <td>14851</td>\n",
       "    </tr>\n",
       "    <tr>\n",
       "      <th>2</th>\n",
       "      <td>Independent artists, writers, &amp; performers</td>\n",
       "      <td>27673</td>\n",
       "    </tr>\n",
       "    <tr>\n",
       "      <th>1</th>\n",
       "      <td>All other personal services</td>\n",
       "      <td>31780</td>\n",
       "    </tr>\n",
       "    <tr>\n",
       "      <th>0</th>\n",
       "      <td>Lessors of real estate (including mini warehou...</td>\n",
       "      <td>42866</td>\n",
       "    </tr>\n",
       "  </tbody>\n",
       "</table>\n",
       "<p>291 rows × 2 columns</p>\n",
       "</div>"
      ],
      "text/plain": [
       "                                      NAICS (Industry)  count\n",
       "290  Other amusement & recreation services (includi...      1\n",
       "289                                             Paging      2\n",
       "288                                          Utilities      3\n",
       "287  Other direct selling establishments (including...      5\n",
       "286  Other amusement & recreation services (includi...      8\n",
       "..                                                 ...    ...\n",
       "4    Motion picture & video industries (except vide...  14150\n",
       "3      Single Family Housing Construction (1997 NAICS)  14851\n",
       "2           Independent artists, writers, & performers  27673\n",
       "1                          All other personal services  31780\n",
       "0    Lessors of real estate (including mini warehou...  42866\n",
       "\n",
       "[291 rows x 2 columns]"
      ]
     },
     "execution_count": 15,
     "metadata": {},
     "output_type": "execute_result"
    }
   ],
   "source": [
    "NAICS_count = NAICS_count.sort_values(by='count',ascending=True)\n",
    "NAICS_count"
   ]
  },
  {
   "cell_type": "markdown",
   "metadata": {},
   "source": [
    "Output: The output shows a dataframe with the lowest count on top with the highest on the bottom."
   ]
  },
  {
   "cell_type": "markdown",
   "metadata": {},
   "source": [
    "Purpose: I use `plot.barh()` to create a bar graph that only shows the \"Top 10 NAICS (Indsutry).\" I use the range [-10:] to showcase the last ten rows of the dataframe. "
   ]
  },
  {
   "cell_type": "code",
   "execution_count": 16,
   "metadata": {},
   "outputs": [
    {
     "data": {
      "text/plain": [
       "<matplotlib.axes._subplots.AxesSubplot at 0x7fe3844f9070>"
      ]
     },
     "execution_count": 16,
     "metadata": {},
     "output_type": "execute_result"
    },
    {
     "data": {
      "image/png": "[encoded data removed]",
      "text/plain": [
       "<Figure size 864x432 with 1 Axes>"
      ]
     },
     "metadata": {
      "needs_background": "light"
     },
     "output_type": "display_data"
    }
   ],
   "source": [
    "NAICS_count[-10:].plot.barh(figsize=(12,6),\n",
    "                                      x='NAICS (Industry)',\n",
    "                                      y='count',\n",
    "                                      title=\"Top 10 Industries in LA at the Moment\")"
   ]
  },
  {
   "cell_type": "markdown",
   "metadata": {},
   "source": [
    "Output: The output is the \"Top 10 Industries in LA at the Moment.\" As mentioned before, lessors of real estate are dominating the LA job scene right now. "
   ]
  },
  {
   "cell_type": "markdown",
   "metadata": {},
   "source": [
    "Purpose: I undo the reversal of the y-axis, so I can have the highest counts at the top again."
   ]
  },
  {
   "cell_type": "code",
   "execution_count": 17,
   "metadata": {},
   "outputs": [
    {
     "data": {
      "text/html": [
       "<div>\n",
       "<style scoped>\n",
       "    .dataframe tbody tr th:only-of-type {\n",
       "        vertical-align: middle;\n",
       "    }\n",
       "\n",
       "    .dataframe tbody tr th {\n",
       "        vertical-align: top;\n",
       "    }\n",
       "\n",
       "    .dataframe thead th {\n",
       "        text-align: right;\n",
       "    }\n",
       "</style>\n",
       "<table border=\"1\" class=\"dataframe\">\n",
       "  <thead>\n",
       "    <tr style=\"text-align: right;\">\n",
       "      <th></th>\n",
       "      <th>NAICS (Industry)</th>\n",
       "      <th>count</th>\n",
       "    </tr>\n",
       "  </thead>\n",
       "  <tbody>\n",
       "    <tr>\n",
       "      <th>0</th>\n",
       "      <td>Lessors of real estate (including mini warehou...</td>\n",
       "      <td>42866</td>\n",
       "    </tr>\n",
       "    <tr>\n",
       "      <th>1</th>\n",
       "      <td>All other personal services</td>\n",
       "      <td>31780</td>\n",
       "    </tr>\n",
       "    <tr>\n",
       "      <th>2</th>\n",
       "      <td>Independent artists, writers, &amp; performers</td>\n",
       "      <td>27673</td>\n",
       "    </tr>\n",
       "    <tr>\n",
       "      <th>3</th>\n",
       "      <td>Single Family Housing Construction (1997 NAICS)</td>\n",
       "      <td>14851</td>\n",
       "    </tr>\n",
       "    <tr>\n",
       "      <th>4</th>\n",
       "      <td>Motion picture &amp; video industries (except vide...</td>\n",
       "      <td>14150</td>\n",
       "    </tr>\n",
       "    <tr>\n",
       "      <th>...</th>\n",
       "      <td>...</td>\n",
       "      <td>...</td>\n",
       "    </tr>\n",
       "    <tr>\n",
       "      <th>286</th>\n",
       "      <td>Other amusement &amp; recreation services (includi...</td>\n",
       "      <td>8</td>\n",
       "    </tr>\n",
       "    <tr>\n",
       "      <th>287</th>\n",
       "      <td>Other direct selling establishments (including...</td>\n",
       "      <td>5</td>\n",
       "    </tr>\n",
       "    <tr>\n",
       "      <th>288</th>\n",
       "      <td>Utilities</td>\n",
       "      <td>3</td>\n",
       "    </tr>\n",
       "    <tr>\n",
       "      <th>289</th>\n",
       "      <td>Paging</td>\n",
       "      <td>2</td>\n",
       "    </tr>\n",
       "    <tr>\n",
       "      <th>290</th>\n",
       "      <td>Other amusement &amp; recreation services (includi...</td>\n",
       "      <td>1</td>\n",
       "    </tr>\n",
       "  </tbody>\n",
       "</table>\n",
       "<p>291 rows × 2 columns</p>\n",
       "</div>"
      ],
      "text/plain": [
       "                                      NAICS (Industry)  count\n",
       "0    Lessors of real estate (including mini warehou...  42866\n",
       "1                          All other personal services  31780\n",
       "2           Independent artists, writers, & performers  27673\n",
       "3      Single Family Housing Construction (1997 NAICS)  14851\n",
       "4    Motion picture & video industries (except vide...  14150\n",
       "..                                                 ...    ...\n",
       "286  Other amusement & recreation services (includi...      8\n",
       "287  Other direct selling establishments (including...      5\n",
       "288                                          Utilities      3\n",
       "289                                             Paging      2\n",
       "290  Other amusement & recreation services (includi...      1\n",
       "\n",
       "[291 rows x 2 columns]"
      ]
     },
     "execution_count": 17,
     "metadata": {},
     "output_type": "execute_result"
    }
   ],
   "source": [
    "NAICS_count = NAICS_count.sort_values(by='count', ascending=False)\n",
    "NAICS_count"
   ]
  },
  {
   "cell_type": "markdown",
   "metadata": {},
   "source": [
    "Output: The output is a dataframe that has NAICS (Industry) values with the highest count at the top and lowest NAICS at the bottom."
   ]
  },
  {
   "cell_type": "markdown",
   "metadata": {},
   "source": [
    "Purpose: I use plot.barh() to create a bar graph that only shows the \"Bottom 10 NAICS (Indsutry).\" I use the range [281:] to showcase the last ten rows of the dataframe--only rows 280-290 are shown."
   ]
  },
  {
   "cell_type": "code",
   "execution_count": 18,
   "metadata": {},
   "outputs": [
    {
     "data": {
      "text/plain": [
       "<matplotlib.axes._subplots.AxesSubplot at 0x7fe34b1d7940>"
      ]
     },
     "execution_count": 18,
     "metadata": {},
     "output_type": "execute_result"
    },
    {
     "data": {
      "image/png": "[encoded data removed]",
      "text/plain": [
       "<Figure size 864x432 with 1 Axes>"
      ]
     },
     "metadata": {
      "needs_background": "light"
     },
     "output_type": "display_data"
    }
   ],
   "source": [
    "NAICS_count[281:].plot.barh(figsize=(12,6),\n",
    "                                      x='NAICS (Industry)',\n",
    "                                      y='count',\n",
    "                                      title=\"Bottom 10 Industries in LA at the Moment\")"
   ]
  },
  {
   "cell_type": "markdown",
   "metadata": {},
   "source": [
    "Output: The output is the \"Bottom 10 Industries in LA at the Moment.\" This provides strong evidence that industries that historically depend on in-person presence (eg, amusement parks) are heavily impacted by the current pandemic and are the least likely to have an increase in business."
   ]
  }
 ],
 "metadata": {
  "kernelspec": {
   "display_name": "Python 3",
   "language": "python",
   "name": "python3"
  },
  "language_info": {
   "codemirror_mode": {
    "name": "ipython",
    "version": 3
   },
   "file_extension": ".py",
   "mimetype": "text/x-python",
   "name": "python",
   "nbconvert_exporter": "python",
   "pygments_lexer": "ipython3",
   "version": "3.8.5"
  },
  "toc": {
   "base_numbering": 1,
   "nav_menu": {},
   "number_sections": true,
   "sideBar": true,
   "skip_h1_title": false,
   "title_cell": "Table of Contents",
   "title_sidebar": "Contents",
   "toc_cell": false,
   "toc_position": {},
   "toc_section_display": true,
   "toc_window_display": false
  }
 },
 "nbformat": 4,
 "nbformat_minor": 4
}
